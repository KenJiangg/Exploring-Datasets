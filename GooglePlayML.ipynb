{
  "nbformat": 4,
  "nbformat_minor": 0,
  "metadata": {
    "colab": {
      "name": "GooglePlayML.ipynb",
      "version": "0.3.2",
      "provenance": [],
      "include_colab_link": true
    },
    "kernelspec": {
      "name": "python3",
      "display_name": "Python 3"
    }
  },
  "cells": [
    {
      "cell_type": "markdown",
      "metadata": {
        "id": "view-in-github",
        "colab_type": "text"
      },
      "source": [
        "<a href=\"https://colab.research.google.com/github/KenJiangg/Exploring-Datasets/blob/master/GooglePlayML.ipynb\" target=\"_parent\"><img src=\"https://colab.research.google.com/assets/colab-badge.svg\" alt=\"Open In Colab\"/></a>"
      ]
    },
    {
      "metadata": {
        "id": "TExWUIREzkC8",
        "colab_type": "text"
      },
      "cell_type": "markdown",
      "source": [
        "#Google Play NLP Experiment\n",
        "I am following the method from the CSE 199 Course I am taking (<a href= \"https://mybinder.org/v2/gh/kennyjoseph/cse199.git/master?filepath=activity.ipynb\"> Example of NLP Logistic Regression </a>) "
      ]
    },
    {
      "metadata": {
        "id": "wfjYTdQu1xKx",
        "colab_type": "text"
      },
      "cell_type": "markdown",
      "source": [
        "#Data Science/ Data Wrangling Part\n",
        "First, I need to preprocess my data into something I can work with for logistic regression. (<a href=\"https://github.com/zackchase/mxnet-the-straight-dope/blob/master/chapter02_supervised-learning/logistic-regression-gluon.ipynb\"> Fundamentals of Logistic Regression </a>) In this case, I want to classify whether a review is Positive or Negative using the given translated_reviews column. "
      ]
    },
    {
      "metadata": {
        "id": "Gf1W8X4g0Ivq",
        "colab_type": "text"
      },
      "cell_type": "markdown",
      "source": [
        "Loading in Google Play Dataset"
      ]
    },
    {
      "metadata": {
        "id": "AeH5OCXsFMGU",
        "colab_type": "code",
        "colab": {
          "base_uri": "https://localhost:8080/",
          "height": 34
        },
        "outputId": "d4b5cc57-93ad-444e-8b68-b9b036381cdf"
      },
      "cell_type": "code",
      "source": [
        "# Load the Drive helper and mount\n",
        "from google.colab import drive\n",
        "\n",
        "# This will prompt for authorization.\n",
        "drive.mount('/content/drive')"
      ],
      "execution_count": 22,
      "outputs": [
        {
          "output_type": "stream",
          "text": [
            "Drive already mounted at /content/drive; to attempt to forcibly remount, call drive.mount(\"/content/drive\", force_remount=True).\n"
          ],
          "name": "stdout"
        }
      ]
    },
    {
      "metadata": {
        "id": "JYImlPlK0L5r",
        "colab_type": "text"
      },
      "cell_type": "markdown",
      "source": [
        "importing data wrangling libraries "
      ]
    },
    {
      "metadata": {
        "id": "KFMHWeiFFPTn",
        "colab_type": "code",
        "colab": {}
      },
      "cell_type": "code",
      "source": [
        "import pandas as pd\n",
        "import numpy as np\n",
        "\n",
        "# matplotlib and seaborn for plotting\n",
        "import matplotlib.pyplot as plt\n",
        "import seaborn as sns\n",
        "\n",
        "# Suppress warnings from pandas\n",
        "import warnings\n",
        "warnings.filterwarnings('ignore')\n",
        "\n",
        "plt.style.use('fivethirtyeight')"
      ],
      "execution_count": 0,
      "outputs": []
    },
    {
      "metadata": {
        "id": "9rzkprcZ0N0g",
        "colab_type": "text"
      },
      "cell_type": "markdown",
      "source": [
        "read in the data into a dataframe "
      ]
    },
    {
      "metadata": {
        "id": "pb9IAu0XFipE",
        "colab_type": "code",
        "colab": {}
      },
      "cell_type": "code",
      "source": [
        "app_play = pd.read_csv('drive/My Drive/Kaggle/Google Play Dataset/googleplaystore_user_reviews.csv')"
      ],
      "execution_count": 0,
      "outputs": []
    },
    {
      "metadata": {
        "id": "dk48MMpR1RWp",
        "colab_type": "text"
      },
      "cell_type": "markdown",
      "source": [
        "seeing our initial dataframe and the  shape, we have 64295 entries of reviews "
      ]
    },
    {
      "metadata": {
        "id": "47jXb7c2Fkys",
        "colab_type": "code",
        "colab": {
          "base_uri": "https://localhost:8080/",
          "height": 34
        },
        "outputId": "70e60c7c-299a-468f-d73d-48e52830ca32"
      },
      "cell_type": "code",
      "source": [
        "app_play.head()\n",
        "app_play.shape"
      ],
      "execution_count": 39,
      "outputs": [
        {
          "output_type": "execute_result",
          "data": {
            "text/plain": [
              "(64295, 5)"
            ]
          },
          "metadata": {
            "tags": []
          },
          "execution_count": 39
        }
      ]
    },
    {
      "metadata": {
        "id": "W6N5ulgd0PVl",
        "colab_type": "text"
      },
      "cell_type": "markdown",
      "source": [
        "create a dataframe of only positive reviews "
      ]
    },
    {
      "metadata": {
        "id": "q8_egcD6Flkk",
        "colab_type": "code",
        "colab": {
          "base_uri": "https://localhost:8080/",
          "height": 204
        },
        "outputId": "ac62abf2-766e-4111-ddaa-d85fc8ece701"
      },
      "cell_type": "code",
      "source": [
        "positive_reviews = app_play[app_play['Sentiment'] == 'Positive']\n",
        "positive_reviews.head()"
      ],
      "execution_count": 26,
      "outputs": [
        {
          "output_type": "execute_result",
          "data": {
            "text/html": [
              "<div>\n",
              "<style scoped>\n",
              "    .dataframe tbody tr th:only-of-type {\n",
              "        vertical-align: middle;\n",
              "    }\n",
              "\n",
              "    .dataframe tbody tr th {\n",
              "        vertical-align: top;\n",
              "    }\n",
              "\n",
              "    .dataframe thead th {\n",
              "        text-align: right;\n",
              "    }\n",
              "</style>\n",
              "<table border=\"1\" class=\"dataframe\">\n",
              "  <thead>\n",
              "    <tr style=\"text-align: right;\">\n",
              "      <th></th>\n",
              "      <th>App</th>\n",
              "      <th>Translated_Review</th>\n",
              "      <th>Sentiment</th>\n",
              "      <th>Sentiment_Polarity</th>\n",
              "      <th>Sentiment_Subjectivity</th>\n",
              "    </tr>\n",
              "  </thead>\n",
              "  <tbody>\n",
              "    <tr>\n",
              "      <th>0</th>\n",
              "      <td>10 Best Foods for You</td>\n",
              "      <td>I like eat delicious food. That's I'm cooking ...</td>\n",
              "      <td>Positive</td>\n",
              "      <td>1.00</td>\n",
              "      <td>0.533333</td>\n",
              "    </tr>\n",
              "    <tr>\n",
              "      <th>1</th>\n",
              "      <td>10 Best Foods for You</td>\n",
              "      <td>This help eating healthy exercise regular basis</td>\n",
              "      <td>Positive</td>\n",
              "      <td>0.25</td>\n",
              "      <td>0.288462</td>\n",
              "    </tr>\n",
              "    <tr>\n",
              "      <th>3</th>\n",
              "      <td>10 Best Foods for You</td>\n",
              "      <td>Works great especially going grocery store</td>\n",
              "      <td>Positive</td>\n",
              "      <td>0.40</td>\n",
              "      <td>0.875000</td>\n",
              "    </tr>\n",
              "    <tr>\n",
              "      <th>4</th>\n",
              "      <td>10 Best Foods for You</td>\n",
              "      <td>Best idea us</td>\n",
              "      <td>Positive</td>\n",
              "      <td>1.00</td>\n",
              "      <td>0.300000</td>\n",
              "    </tr>\n",
              "    <tr>\n",
              "      <th>5</th>\n",
              "      <td>10 Best Foods for You</td>\n",
              "      <td>Best way</td>\n",
              "      <td>Positive</td>\n",
              "      <td>1.00</td>\n",
              "      <td>0.300000</td>\n",
              "    </tr>\n",
              "  </tbody>\n",
              "</table>\n",
              "</div>"
            ],
            "text/plain": [
              "                     App                                  Translated_Review  \\\n",
              "0  10 Best Foods for You  I like eat delicious food. That's I'm cooking ...   \n",
              "1  10 Best Foods for You    This help eating healthy exercise regular basis   \n",
              "3  10 Best Foods for You         Works great especially going grocery store   \n",
              "4  10 Best Foods for You                                       Best idea us   \n",
              "5  10 Best Foods for You                                           Best way   \n",
              "\n",
              "  Sentiment  Sentiment_Polarity  Sentiment_Subjectivity  \n",
              "0  Positive                1.00                0.533333  \n",
              "1  Positive                0.25                0.288462  \n",
              "3  Positive                0.40                0.875000  \n",
              "4  Positive                1.00                0.300000  \n",
              "5  Positive                1.00                0.300000  "
            ]
          },
          "metadata": {
            "tags": []
          },
          "execution_count": 26
        }
      ]
    },
    {
      "metadata": {
        "id": "1YtOmcCr0XI5",
        "colab_type": "text"
      },
      "cell_type": "markdown",
      "source": [
        "create a dataframe of only negative reviews "
      ]
    },
    {
      "metadata": {
        "id": "kWXSFHy7GFo1",
        "colab_type": "code",
        "colab": {
          "base_uri": "https://localhost:8080/",
          "height": 204
        },
        "outputId": "d907d98f-9760-4078-bbb4-6b58cf5f175f"
      },
      "cell_type": "code",
      "source": [
        "negative_reviews = app_play[app_play['Sentiment'] == 'Negative']\n",
        "negative_reviews.head()"
      ],
      "execution_count": 27,
      "outputs": [
        {
          "output_type": "execute_result",
          "data": {
            "text/html": [
              "<div>\n",
              "<style scoped>\n",
              "    .dataframe tbody tr th:only-of-type {\n",
              "        vertical-align: middle;\n",
              "    }\n",
              "\n",
              "    .dataframe tbody tr th {\n",
              "        vertical-align: top;\n",
              "    }\n",
              "\n",
              "    .dataframe thead th {\n",
              "        text-align: right;\n",
              "    }\n",
              "</style>\n",
              "<table border=\"1\" class=\"dataframe\">\n",
              "  <thead>\n",
              "    <tr style=\"text-align: right;\">\n",
              "      <th></th>\n",
              "      <th>App</th>\n",
              "      <th>Translated_Review</th>\n",
              "      <th>Sentiment</th>\n",
              "      <th>Sentiment_Polarity</th>\n",
              "      <th>Sentiment_Subjectivity</th>\n",
              "    </tr>\n",
              "  </thead>\n",
              "  <tbody>\n",
              "    <tr>\n",
              "      <th>32</th>\n",
              "      <td>10 Best Foods for You</td>\n",
              "      <td>No recipe book Unable recipe book.</td>\n",
              "      <td>Negative</td>\n",
              "      <td>-0.500</td>\n",
              "      <td>0.500</td>\n",
              "    </tr>\n",
              "    <tr>\n",
              "      <th>43</th>\n",
              "      <td>10 Best Foods for You</td>\n",
              "      <td>Waste time It needs internet time n ask calls ...</td>\n",
              "      <td>Negative</td>\n",
              "      <td>-0.200</td>\n",
              "      <td>0.000</td>\n",
              "    </tr>\n",
              "    <tr>\n",
              "      <th>68</th>\n",
              "      <td>10 Best Foods for You</td>\n",
              "      <td>Faltu plz waste ur time</td>\n",
              "      <td>Negative</td>\n",
              "      <td>-0.200</td>\n",
              "      <td>0.000</td>\n",
              "    </tr>\n",
              "    <tr>\n",
              "      <th>85</th>\n",
              "      <td>10 Best Foods for You</td>\n",
              "      <td>Crap Doesn't work</td>\n",
              "      <td>Negative</td>\n",
              "      <td>-0.800</td>\n",
              "      <td>0.800</td>\n",
              "    </tr>\n",
              "    <tr>\n",
              "      <th>95</th>\n",
              "      <td>10 Best Foods for You</td>\n",
              "      <td>Boring. I thought actually just texts that's i...</td>\n",
              "      <td>Negative</td>\n",
              "      <td>-0.325</td>\n",
              "      <td>0.475</td>\n",
              "    </tr>\n",
              "  </tbody>\n",
              "</table>\n",
              "</div>"
            ],
            "text/plain": [
              "                      App                                  Translated_Review  \\\n",
              "32  10 Best Foods for You                 No recipe book Unable recipe book.   \n",
              "43  10 Best Foods for You  Waste time It needs internet time n ask calls ...   \n",
              "68  10 Best Foods for You                            Faltu plz waste ur time   \n",
              "85  10 Best Foods for You                                  Crap Doesn't work   \n",
              "95  10 Best Foods for You  Boring. I thought actually just texts that's i...   \n",
              "\n",
              "   Sentiment  Sentiment_Polarity  Sentiment_Subjectivity  \n",
              "32  Negative              -0.500                   0.500  \n",
              "43  Negative              -0.200                   0.000  \n",
              "68  Negative              -0.200                   0.000  \n",
              "85  Negative              -0.800                   0.800  \n",
              "95  Negative              -0.325                   0.475  "
            ]
          },
          "metadata": {
            "tags": []
          },
          "execution_count": 27
        }
      ]
    },
    {
      "metadata": {
        "id": "4rIHoiQW0ZGO",
        "colab_type": "text"
      },
      "cell_type": "markdown",
      "source": [
        "merging the two dataframes consisting of only positive and negative reviews in the dataframe "
      ]
    },
    {
      "metadata": {
        "id": "Mw-M2eRiGSTq",
        "colab_type": "code",
        "colab": {
          "base_uri": "https://localhost:8080/",
          "height": 204
        },
        "outputId": "e442d689-1f30-4f22-b2ff-12d57011021a"
      },
      "cell_type": "code",
      "source": [
        "merged = pd.merge(positive_reviews,negative_reviews, how = 'outer')\n",
        "merged.head()"
      ],
      "execution_count": 28,
      "outputs": [
        {
          "output_type": "execute_result",
          "data": {
            "text/html": [
              "<div>\n",
              "<style scoped>\n",
              "    .dataframe tbody tr th:only-of-type {\n",
              "        vertical-align: middle;\n",
              "    }\n",
              "\n",
              "    .dataframe tbody tr th {\n",
              "        vertical-align: top;\n",
              "    }\n",
              "\n",
              "    .dataframe thead th {\n",
              "        text-align: right;\n",
              "    }\n",
              "</style>\n",
              "<table border=\"1\" class=\"dataframe\">\n",
              "  <thead>\n",
              "    <tr style=\"text-align: right;\">\n",
              "      <th></th>\n",
              "      <th>App</th>\n",
              "      <th>Translated_Review</th>\n",
              "      <th>Sentiment</th>\n",
              "      <th>Sentiment_Polarity</th>\n",
              "      <th>Sentiment_Subjectivity</th>\n",
              "    </tr>\n",
              "  </thead>\n",
              "  <tbody>\n",
              "    <tr>\n",
              "      <th>0</th>\n",
              "      <td>10 Best Foods for You</td>\n",
              "      <td>I like eat delicious food. That's I'm cooking ...</td>\n",
              "      <td>Positive</td>\n",
              "      <td>1.00</td>\n",
              "      <td>0.533333</td>\n",
              "    </tr>\n",
              "    <tr>\n",
              "      <th>1</th>\n",
              "      <td>10 Best Foods for You</td>\n",
              "      <td>I like eat delicious food. That's I'm cooking ...</td>\n",
              "      <td>Positive</td>\n",
              "      <td>1.00</td>\n",
              "      <td>0.533333</td>\n",
              "    </tr>\n",
              "    <tr>\n",
              "      <th>2</th>\n",
              "      <td>10 Best Foods for You</td>\n",
              "      <td>This help eating healthy exercise regular basis</td>\n",
              "      <td>Positive</td>\n",
              "      <td>0.25</td>\n",
              "      <td>0.288462</td>\n",
              "    </tr>\n",
              "    <tr>\n",
              "      <th>3</th>\n",
              "      <td>10 Best Foods for You</td>\n",
              "      <td>This help eating healthy exercise regular basis</td>\n",
              "      <td>Positive</td>\n",
              "      <td>0.25</td>\n",
              "      <td>0.288462</td>\n",
              "    </tr>\n",
              "    <tr>\n",
              "      <th>4</th>\n",
              "      <td>10 Best Foods for You</td>\n",
              "      <td>Works great especially going grocery store</td>\n",
              "      <td>Positive</td>\n",
              "      <td>0.40</td>\n",
              "      <td>0.875000</td>\n",
              "    </tr>\n",
              "  </tbody>\n",
              "</table>\n",
              "</div>"
            ],
            "text/plain": [
              "                     App                                  Translated_Review  \\\n",
              "0  10 Best Foods for You  I like eat delicious food. That's I'm cooking ...   \n",
              "1  10 Best Foods for You  I like eat delicious food. That's I'm cooking ...   \n",
              "2  10 Best Foods for You    This help eating healthy exercise regular basis   \n",
              "3  10 Best Foods for You    This help eating healthy exercise regular basis   \n",
              "4  10 Best Foods for You         Works great especially going grocery store   \n",
              "\n",
              "  Sentiment  Sentiment_Polarity  Sentiment_Subjectivity  \n",
              "0  Positive                1.00                0.533333  \n",
              "1  Positive                1.00                0.533333  \n",
              "2  Positive                0.25                0.288462  \n",
              "3  Positive                0.25                0.288462  \n",
              "4  Positive                0.40                0.875000  "
            ]
          },
          "metadata": {
            "tags": []
          },
          "execution_count": 28
        }
      ]
    },
    {
      "metadata": {
        "id": "pCb2mXSw0gcO",
        "colab_type": "text"
      },
      "cell_type": "markdown",
      "source": [
        "dropping columns I am not interested in "
      ]
    },
    {
      "metadata": {
        "id": "v48brQWewD6s",
        "colab_type": "code",
        "colab": {
          "base_uri": "https://localhost:8080/",
          "height": 204
        },
        "outputId": "9d86656c-8cde-4fb1-b508-d5783daf4895"
      },
      "cell_type": "code",
      "source": [
        "merged = merged.drop(['Sentiment_Polarity','Sentiment_Subjectivity','App'], axis = 1)\n",
        "merged.head()"
      ],
      "execution_count": 29,
      "outputs": [
        {
          "output_type": "execute_result",
          "data": {
            "text/html": [
              "<div>\n",
              "<style scoped>\n",
              "    .dataframe tbody tr th:only-of-type {\n",
              "        vertical-align: middle;\n",
              "    }\n",
              "\n",
              "    .dataframe tbody tr th {\n",
              "        vertical-align: top;\n",
              "    }\n",
              "\n",
              "    .dataframe thead th {\n",
              "        text-align: right;\n",
              "    }\n",
              "</style>\n",
              "<table border=\"1\" class=\"dataframe\">\n",
              "  <thead>\n",
              "    <tr style=\"text-align: right;\">\n",
              "      <th></th>\n",
              "      <th>Translated_Review</th>\n",
              "      <th>Sentiment</th>\n",
              "    </tr>\n",
              "  </thead>\n",
              "  <tbody>\n",
              "    <tr>\n",
              "      <th>0</th>\n",
              "      <td>I like eat delicious food. That's I'm cooking ...</td>\n",
              "      <td>Positive</td>\n",
              "    </tr>\n",
              "    <tr>\n",
              "      <th>1</th>\n",
              "      <td>I like eat delicious food. That's I'm cooking ...</td>\n",
              "      <td>Positive</td>\n",
              "    </tr>\n",
              "    <tr>\n",
              "      <th>2</th>\n",
              "      <td>This help eating healthy exercise regular basis</td>\n",
              "      <td>Positive</td>\n",
              "    </tr>\n",
              "    <tr>\n",
              "      <th>3</th>\n",
              "      <td>This help eating healthy exercise regular basis</td>\n",
              "      <td>Positive</td>\n",
              "    </tr>\n",
              "    <tr>\n",
              "      <th>4</th>\n",
              "      <td>Works great especially going grocery store</td>\n",
              "      <td>Positive</td>\n",
              "    </tr>\n",
              "  </tbody>\n",
              "</table>\n",
              "</div>"
            ],
            "text/plain": [
              "                                   Translated_Review Sentiment\n",
              "0  I like eat delicious food. That's I'm cooking ...  Positive\n",
              "1  I like eat delicious food. That's I'm cooking ...  Positive\n",
              "2    This help eating healthy exercise regular basis  Positive\n",
              "3    This help eating healthy exercise regular basis  Positive\n",
              "4         Works great especially going grocery store  Positive"
            ]
          },
          "metadata": {
            "tags": []
          },
          "execution_count": 29
        }
      ]
    },
    {
      "metadata": {
        "id": "NTlUFREM1VWU",
        "colab_type": "text"
      },
      "cell_type": "markdown",
      "source": [
        "After data wrangling, we go from 64295 entries with 5 different columns of values to 32269 entries with 2 different columns of values because we are only interested in the words and if the sentiment is positive or negative "
      ]
    },
    {
      "metadata": {
        "id": "0qZE30m40tsC",
        "colab_type": "code",
        "colab": {
          "base_uri": "https://localhost:8080/",
          "height": 34
        },
        "outputId": "b01dcd3a-aa51-4a6f-a515-7d33a9ab5fea"
      },
      "cell_type": "code",
      "source": [
        "merged.shape"
      ],
      "execution_count": 38,
      "outputs": [
        {
          "output_type": "execute_result",
          "data": {
            "text/plain": [
              "(32269, 2)"
            ]
          },
          "metadata": {
            "tags": []
          },
          "execution_count": 38
        }
      ]
    },
    {
      "metadata": {
        "id": "XSn3_VO41hWC",
        "colab_type": "text"
      },
      "cell_type": "markdown",
      "source": [
        "#ML Part \n",
        "After getting the dataset I need for a logistic regression, I am now importing libraries for machine learning "
      ]
    },
    {
      "metadata": {
        "id": "aR1BgMSHwmhe",
        "colab_type": "code",
        "colab": {}
      },
      "cell_type": "code",
      "source": [
        "from sklearn.feature_extraction.text import CountVectorizer\n",
        "from sklearn.feature_extraction.text import TfidfTransformer\n",
        "from sklearn.linear_model import LogisticRegressionCV\n",
        "from sklearn.model_selection import StratifiedKFold\n",
        "from sklearn.metrics import classification_report,roc_auc_score\n",
        "import numpy as np\n"
      ],
      "execution_count": 0,
      "outputs": []
    },
    {
      "metadata": {
        "id": "IqJ-1DMSnzMd",
        "colab_type": "text"
      },
      "cell_type": "markdown",
      "source": [
        "turning words into vectors (bag of words model)"
      ]
    },
    {
      "metadata": {
        "id": "7yQkxX7PwfwZ",
        "colab_type": "code",
        "colab": {}
      },
      "cell_type": "code",
      "source": [
        "count_vect = CountVectorizer(stop_words='english', min_df =.001)\n",
        "X_counts = count_vect.fit_transform(merged['Translated_Review'].tolist())"
      ],
      "execution_count": 0,
      "outputs": []
    },
    {
      "metadata": {
        "id": "iX3jKZ3Qn1dt",
        "colab_type": "text"
      },
      "cell_type": "markdown",
      "source": [
        "model creation + classification report of our model"
      ]
    },
    {
      "metadata": {
        "id": "vwhPaquwxtKm",
        "colab_type": "code",
        "colab": {
          "base_uri": "https://localhost:8080/",
          "height": 136
        },
        "outputId": "33d6bf9d-8b60-4ba6-f022-53c875059e78"
      },
      "cell_type": "code",
      "source": [
        "tfidf_transformer = TfidfTransformer()\n",
        "X = tfidf_transformer.fit_transform(X_counts)\n",
        "y = np.array([1 if row['Sentiment'] == 'Positive' else 0 for index, row in merged.iterrows()])\n",
        "\n",
        "skf = StratifiedKFold(n_splits=3)\n",
        "fold = 0\n",
        "\n",
        "test_res = []\n",
        "model_pred_test = []\n",
        "for train_index, test_index in skf.split(X, y):\n",
        "    fold +=1\n",
        "    X_train, X_test = X[train_index], X[test_index]\n",
        "    y_train, y_test = y[train_index], y[test_index]\n",
        "  \n",
        "    model = LogisticRegressionCV()\n",
        "    fitted = model.fit(X_train, y_train)\n",
        "    test_res += list(y_test)\n",
        "    model_pred_test +=  list(model.predict(X_test))\n",
        "\n",
        "print(classification_report(test_res, model_pred_test, target_names=['Negative','Positive']))"
      ],
      "execution_count": 42,
      "outputs": [
        {
          "output_type": "stream",
          "text": [
            "             precision    recall  f1-score   support\n",
            "\n",
            "   Negative       0.86      0.74      0.80      8271\n",
            "   Positive       0.91      0.96      0.94     23998\n",
            "\n",
            "avg / total       0.90      0.90      0.90     32269\n",
            "\n"
          ],
          "name": "stdout"
        }
      ]
    },
    {
      "metadata": {
        "id": "w0gP5mHQoYXo",
        "colab_type": "text"
      },
      "cell_type": "markdown",
      "source": [
        "classification report of a randomly generating model"
      ]
    },
    {
      "metadata": {
        "id": "SVY6O101yaf9",
        "colab_type": "code",
        "colab": {
          "base_uri": "https://localhost:8080/",
          "height": 136
        },
        "outputId": "3bd9ac53-546d-4692-fdb7-6c3dcd99a987"
      },
      "cell_type": "code",
      "source": [
        "print(classification_report(y_test,  \n",
        "                            np.random.choice([0, 1], \n",
        "                                             size=(len(y_test),), \n",
        "                                             p=[y.sum()/len(y), 1-(y.sum()/len(y))]), \n",
        "                            target_names=['Negative','Positive']))"
      ],
      "execution_count": 43,
      "outputs": [
        {
          "output_type": "stream",
          "text": [
            "             precision    recall  f1-score   support\n",
            "\n",
            "   Negative       0.26      0.75      0.38      2757\n",
            "   Positive       0.74      0.25      0.38      7999\n",
            "\n",
            "avg / total       0.62      0.38      0.38     10756\n",
            "\n"
          ],
          "name": "stdout"
        }
      ]
    },
    {
      "metadata": {
        "id": "FTXw-Vb2oceI",
        "colab_type": "text"
      },
      "cell_type": "markdown",
      "source": [
        "words that predict positive/ negative sentiments"
      ]
    },
    {
      "metadata": {
        "id": "49LRzOtKylx1",
        "colab_type": "code",
        "colab": {
          "base_uri": "https://localhost:8080/",
          "height": 173
        },
        "outputId": "9a34d610-0f54-41d1-c968-a523413536f7"
      },
      "cell_type": "code",
      "source": [
        "model = LogisticRegressionCV()\n",
        "fitted = model.fit(X, y)\n",
        "coefficient_data = pd.DataFrame(list(zip(list(count_vect.vocabulary_.keys()),model.coef_[0,:])), \n",
        "                        columns=['word','coef'])\n",
        "\n",
        "top_positive = coefficient_data.sort_values(\"coef\",ascending=False)[:50].word\n",
        "top_negative = coefficient_data.sort_values(\"coef\",ascending=True)[:50].word\n",
        "\n",
        "print(\"\"\"Top 50 words predicting positive sentiment:\\n\\n{}\n",
        "\n",
        "Top 50 words predicting negative sentiment: \\n\\n{}\n",
        "\"\"\".format(\", \".join(top_positive), \", \".join(top_negative)))\n"
      ],
      "execution_count": 44,
      "outputs": [
        {
          "output_type": "stream",
          "text": [
            "Top 50 words predicting positive sentiment:\n",
            "\n",
            "tough, efficient, seen, worth, smoothly, mind, available, occasionally, know, manage, fish, let, color, signed, gameplay, scores, fixed, gear, ago, giving, reasons, machine, english, constantly, years, exactly, waited, tech, unusable, area, smart, matching, features, shows, flights, tracker, memory, wait, created, stops, note, mean, finally, bloody, annoyed, navigation, price, unfair, application, monitor\n",
            "\n",
            "Top 50 words predicting negative sentiment: \n",
            "\n",
            "lost, currency, candy, internal, current, absolute, advance, ios, paid, somebody, macro, storage, sense, morning, opportunity, provide, lists, explain, offer, hotel, calculator, increased, chance, inside, saving, sign, board, compatible, completed, end, resources, playback, complicated, tinder, known, rank, action, messaging, episodes, latest, speak, hints, endless, continue, bars, difficulty, vehicles, loaded, animations, possibly\n",
            "\n"
          ],
          "name": "stdout"
        }
      ]
    }
  ]
}