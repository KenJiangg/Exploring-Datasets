{
  "nbformat": 4,
  "nbformat_minor": 0,
  "metadata": {
    "colab": {
      "name": "GooglePlayEDA.ipynb",
      "version": "0.3.2",
      "provenance": [],
      "collapsed_sections": [],
      "include_colab_link": true
    }
  },
  "cells": [
    {
      "cell_type": "markdown",
      "metadata": {
        "id": "view-in-github",
        "colab_type": "text"
      },
      "source": [
        "[View in Colaboratory](https://colab.research.google.com/github/KenJiangg/Exploring-Datasets/blob/master/GooglePlayEDA.ipynb)"
      ]
    },
    {
      "metadata": {
        "id": "hvHaKuJp1fm4",
        "colab_type": "text"
      },
      "cell_type": "markdown",
      "source": [
        "I am working on Google Colab. so I need to add this in order to access the files "
      ]
    },
    {
      "metadata": {
        "id": "tiExt-q21ckk",
        "colab_type": "code",
        "colab": {
          "base_uri": "https://localhost:8080/",
          "height": 122
        },
        "outputId": "5ff364dc-449e-4eb2-a7ab-8d91bc0faac6"
      },
      "cell_type": "code",
      "source": [
        "# Load the Drive helper and mount\n",
        "from google.colab import drive\n",
        "\n",
        "# This will prompt for authorization.\n",
        "drive.mount('/content/drive')"
      ],
      "execution_count": 1,
      "outputs": [
        {
          "output_type": "stream",
          "text": [
            "Go to this URL in a browser: https://accounts.google.com/o/oauth2/auth?client_id=947318989803-6bn6qk8qdgf4n4g3pfee6491hc0brc4i.apps.googleusercontent.com&redirect_uri=urn%3Aietf%3Awg%3Aoauth%3A2.0%3Aoob&scope=email%20https%3A%2F%2Fwww.googleapis.com%2Fauth%2Fdocs.test%20https%3A%2F%2Fwww.googleapis.com%2Fauth%2Fdrive%20https%3A%2F%2Fwww.googleapis.com%2Fauth%2Fdrive.photos.readonly%20https%3A%2F%2Fwww.googleapis.com%2Fauth%2Fpeopleapi.readonly&response_type=code\n",
            "\n",
            "Enter your authorization code:\n",
            "··········\n",
            "Mounted at /content/drive\n"
          ],
          "name": "stdout"
        }
      ]
    },
    {
      "metadata": {
        "id": "dvjmGTR_1ek_",
        "colab_type": "text"
      },
      "cell_type": "markdown",
      "source": [
        "Libraries I will be using\n"
      ]
    },
    {
      "metadata": {
        "id": "HAuzOA9h14RX",
        "colab_type": "code",
        "colab": {}
      },
      "cell_type": "code",
      "source": [
        "import pandas as pd\n",
        "import numpy as np\n",
        "\n",
        "# matplotlib and seaborn for plotting\n",
        "import matplotlib.pyplot as plt\n",
        "import seaborn as sns\n",
        "\n",
        "# Suppress warnings from pandas\n",
        "import warnings\n",
        "warnings.filterwarnings('ignore')\n",
        "\n",
        "plt.style.use('fivethirtyeight')"
      ],
      "execution_count": 0,
      "outputs": []
    },
    {
      "metadata": {
        "id": "8FY5a6vv14BV",
        "colab_type": "text"
      },
      "cell_type": "markdown",
      "source": [
        "Read Files "
      ]
    },
    {
      "metadata": {
        "id": "QIgxztdQ19zK",
        "colab_type": "code",
        "colab": {}
      },
      "cell_type": "code",
      "source": [
        "app_review = pd.read_csv('drive/My Drive/Kaggle/Google Play Dataset/googleplaystore.csv')\n",
        "app_play = pd.read_csv('drive/My Drive/Kaggle/Google Play Dataset/googleplaystore_user_reviews.csv')"
      ],
      "execution_count": 0,
      "outputs": []
    },
    {
      "metadata": {
        "id": "DbNbVaD22co_",
        "colab_type": "text"
      },
      "cell_type": "markdown",
      "source": [
        "Checking the files"
      ]
    },
    {
      "metadata": {
        "id": "GjcjkfGV2ZnS",
        "colab_type": "code",
        "colab": {
          "base_uri": "https://localhost:8080/",
          "height": 357
        },
        "outputId": "f6facdd8-3689-4916-ff59-4536768f9477"
      },
      "cell_type": "code",
      "source": [
        "app_review.head()"
      ],
      "execution_count": 4,
      "outputs": [
        {
          "output_type": "execute_result",
          "data": {
            "text/html": [
              "<div>\n",
              "<style scoped>\n",
              "    .dataframe tbody tr th:only-of-type {\n",
              "        vertical-align: middle;\n",
              "    }\n",
              "\n",
              "    .dataframe tbody tr th {\n",
              "        vertical-align: top;\n",
              "    }\n",
              "\n",
              "    .dataframe thead th {\n",
              "        text-align: right;\n",
              "    }\n",
              "</style>\n",
              "<table border=\"1\" class=\"dataframe\">\n",
              "  <thead>\n",
              "    <tr style=\"text-align: right;\">\n",
              "      <th></th>\n",
              "      <th>App</th>\n",
              "      <th>Category</th>\n",
              "      <th>Rating</th>\n",
              "      <th>Reviews</th>\n",
              "      <th>Size</th>\n",
              "      <th>Installs</th>\n",
              "      <th>Type</th>\n",
              "      <th>Price</th>\n",
              "      <th>Content Rating</th>\n",
              "      <th>Genres</th>\n",
              "      <th>Last Updated</th>\n",
              "      <th>Current Ver</th>\n",
              "      <th>Android Ver</th>\n",
              "    </tr>\n",
              "  </thead>\n",
              "  <tbody>\n",
              "    <tr>\n",
              "      <th>0</th>\n",
              "      <td>Photo Editor &amp; Candy Camera &amp; Grid &amp; ScrapBook</td>\n",
              "      <td>ART_AND_DESIGN</td>\n",
              "      <td>4.1</td>\n",
              "      <td>159</td>\n",
              "      <td>19M</td>\n",
              "      <td>10,000+</td>\n",
              "      <td>Free</td>\n",
              "      <td>0</td>\n",
              "      <td>Everyone</td>\n",
              "      <td>Art &amp; Design</td>\n",
              "      <td>January 7, 2018</td>\n",
              "      <td>1.0.0</td>\n",
              "      <td>4.0.3 and up</td>\n",
              "    </tr>\n",
              "    <tr>\n",
              "      <th>1</th>\n",
              "      <td>Coloring book moana</td>\n",
              "      <td>ART_AND_DESIGN</td>\n",
              "      <td>3.9</td>\n",
              "      <td>967</td>\n",
              "      <td>14M</td>\n",
              "      <td>500,000+</td>\n",
              "      <td>Free</td>\n",
              "      <td>0</td>\n",
              "      <td>Everyone</td>\n",
              "      <td>Art &amp; Design;Pretend Play</td>\n",
              "      <td>January 15, 2018</td>\n",
              "      <td>2.0.0</td>\n",
              "      <td>4.0.3 and up</td>\n",
              "    </tr>\n",
              "    <tr>\n",
              "      <th>2</th>\n",
              "      <td>U Launcher Lite – FREE Live Cool Themes, Hide ...</td>\n",
              "      <td>ART_AND_DESIGN</td>\n",
              "      <td>4.7</td>\n",
              "      <td>87510</td>\n",
              "      <td>8.7M</td>\n",
              "      <td>5,000,000+</td>\n",
              "      <td>Free</td>\n",
              "      <td>0</td>\n",
              "      <td>Everyone</td>\n",
              "      <td>Art &amp; Design</td>\n",
              "      <td>August 1, 2018</td>\n",
              "      <td>1.2.4</td>\n",
              "      <td>4.0.3 and up</td>\n",
              "    </tr>\n",
              "    <tr>\n",
              "      <th>3</th>\n",
              "      <td>Sketch - Draw &amp; Paint</td>\n",
              "      <td>ART_AND_DESIGN</td>\n",
              "      <td>4.5</td>\n",
              "      <td>215644</td>\n",
              "      <td>25M</td>\n",
              "      <td>50,000,000+</td>\n",
              "      <td>Free</td>\n",
              "      <td>0</td>\n",
              "      <td>Teen</td>\n",
              "      <td>Art &amp; Design</td>\n",
              "      <td>June 8, 2018</td>\n",
              "      <td>Varies with device</td>\n",
              "      <td>4.2 and up</td>\n",
              "    </tr>\n",
              "    <tr>\n",
              "      <th>4</th>\n",
              "      <td>Pixel Draw - Number Art Coloring Book</td>\n",
              "      <td>ART_AND_DESIGN</td>\n",
              "      <td>4.3</td>\n",
              "      <td>967</td>\n",
              "      <td>2.8M</td>\n",
              "      <td>100,000+</td>\n",
              "      <td>Free</td>\n",
              "      <td>0</td>\n",
              "      <td>Everyone</td>\n",
              "      <td>Art &amp; Design;Creativity</td>\n",
              "      <td>June 20, 2018</td>\n",
              "      <td>1.1</td>\n",
              "      <td>4.4 and up</td>\n",
              "    </tr>\n",
              "  </tbody>\n",
              "</table>\n",
              "</div>"
            ],
            "text/plain": [
              "                                                 App        Category  Rating  \\\n",
              "0     Photo Editor & Candy Camera & Grid & ScrapBook  ART_AND_DESIGN     4.1   \n",
              "1                                Coloring book moana  ART_AND_DESIGN     3.9   \n",
              "2  U Launcher Lite – FREE Live Cool Themes, Hide ...  ART_AND_DESIGN     4.7   \n",
              "3                              Sketch - Draw & Paint  ART_AND_DESIGN     4.5   \n",
              "4              Pixel Draw - Number Art Coloring Book  ART_AND_DESIGN     4.3   \n",
              "\n",
              "  Reviews  Size     Installs  Type Price Content Rating  \\\n",
              "0     159   19M      10,000+  Free     0       Everyone   \n",
              "1     967   14M     500,000+  Free     0       Everyone   \n",
              "2   87510  8.7M   5,000,000+  Free     0       Everyone   \n",
              "3  215644   25M  50,000,000+  Free     0           Teen   \n",
              "4     967  2.8M     100,000+  Free     0       Everyone   \n",
              "\n",
              "                      Genres      Last Updated         Current Ver  \\\n",
              "0               Art & Design   January 7, 2018               1.0.0   \n",
              "1  Art & Design;Pretend Play  January 15, 2018               2.0.0   \n",
              "2               Art & Design    August 1, 2018               1.2.4   \n",
              "3               Art & Design      June 8, 2018  Varies with device   \n",
              "4    Art & Design;Creativity     June 20, 2018                 1.1   \n",
              "\n",
              "    Android Ver  \n",
              "0  4.0.3 and up  \n",
              "1  4.0.3 and up  \n",
              "2  4.0.3 and up  \n",
              "3    4.2 and up  \n",
              "4    4.4 and up  "
            ]
          },
          "metadata": {
            "tags": []
          },
          "execution_count": 4
        }
      ]
    },
    {
      "metadata": {
        "id": "RhKecQS72glS",
        "colab_type": "code",
        "colab": {
          "base_uri": "https://localhost:8080/",
          "height": 204
        },
        "outputId": "d3ca41fd-bda4-4ae8-d6ed-e667049393fc"
      },
      "cell_type": "code",
      "source": [
        "app_play.head()"
      ],
      "execution_count": 5,
      "outputs": [
        {
          "output_type": "execute_result",
          "data": {
            "text/html": [
              "<div>\n",
              "<style scoped>\n",
              "    .dataframe tbody tr th:only-of-type {\n",
              "        vertical-align: middle;\n",
              "    }\n",
              "\n",
              "    .dataframe tbody tr th {\n",
              "        vertical-align: top;\n",
              "    }\n",
              "\n",
              "    .dataframe thead th {\n",
              "        text-align: right;\n",
              "    }\n",
              "</style>\n",
              "<table border=\"1\" class=\"dataframe\">\n",
              "  <thead>\n",
              "    <tr style=\"text-align: right;\">\n",
              "      <th></th>\n",
              "      <th>App</th>\n",
              "      <th>Translated_Review</th>\n",
              "      <th>Sentiment</th>\n",
              "      <th>Sentiment_Polarity</th>\n",
              "      <th>Sentiment_Subjectivity</th>\n",
              "    </tr>\n",
              "  </thead>\n",
              "  <tbody>\n",
              "    <tr>\n",
              "      <th>0</th>\n",
              "      <td>10 Best Foods for You</td>\n",
              "      <td>I like eat delicious food. That's I'm cooking ...</td>\n",
              "      <td>Positive</td>\n",
              "      <td>1.00</td>\n",
              "      <td>0.533333</td>\n",
              "    </tr>\n",
              "    <tr>\n",
              "      <th>1</th>\n",
              "      <td>10 Best Foods for You</td>\n",
              "      <td>This help eating healthy exercise regular basis</td>\n",
              "      <td>Positive</td>\n",
              "      <td>0.25</td>\n",
              "      <td>0.288462</td>\n",
              "    </tr>\n",
              "    <tr>\n",
              "      <th>2</th>\n",
              "      <td>10 Best Foods for You</td>\n",
              "      <td>NaN</td>\n",
              "      <td>NaN</td>\n",
              "      <td>NaN</td>\n",
              "      <td>NaN</td>\n",
              "    </tr>\n",
              "    <tr>\n",
              "      <th>3</th>\n",
              "      <td>10 Best Foods for You</td>\n",
              "      <td>Works great especially going grocery store</td>\n",
              "      <td>Positive</td>\n",
              "      <td>0.40</td>\n",
              "      <td>0.875000</td>\n",
              "    </tr>\n",
              "    <tr>\n",
              "      <th>4</th>\n",
              "      <td>10 Best Foods for You</td>\n",
              "      <td>Best idea us</td>\n",
              "      <td>Positive</td>\n",
              "      <td>1.00</td>\n",
              "      <td>0.300000</td>\n",
              "    </tr>\n",
              "  </tbody>\n",
              "</table>\n",
              "</div>"
            ],
            "text/plain": [
              "                     App                                  Translated_Review  \\\n",
              "0  10 Best Foods for You  I like eat delicious food. That's I'm cooking ...   \n",
              "1  10 Best Foods for You    This help eating healthy exercise regular basis   \n",
              "2  10 Best Foods for You                                                NaN   \n",
              "3  10 Best Foods for You         Works great especially going grocery store   \n",
              "4  10 Best Foods for You                                       Best idea us   \n",
              "\n",
              "  Sentiment  Sentiment_Polarity  Sentiment_Subjectivity  \n",
              "0  Positive                1.00                0.533333  \n",
              "1  Positive                0.25                0.288462  \n",
              "2       NaN                 NaN                     NaN  \n",
              "3  Positive                0.40                0.875000  \n",
              "4  Positive                1.00                0.300000  "
            ]
          },
          "metadata": {
            "tags": []
          },
          "execution_count": 5
        }
      ]
    },
    {
      "metadata": {
        "id": "mblZdJIS2tV7",
        "colab_type": "text"
      },
      "cell_type": "markdown",
      "source": [
        "# Comparison between High Rating (4.5+) and # of Reviews"
      ]
    },
    {
      "metadata": {
        "id": "iIFoJnR24E-p",
        "colab_type": "text"
      },
      "cell_type": "markdown",
      "source": [
        "Find all the apps who achieve 4.5 or higher "
      ]
    },
    {
      "metadata": {
        "id": "KY7-aOzi4EVd",
        "colab_type": "code",
        "colab": {}
      },
      "cell_type": "code",
      "source": [
        "high_rating = app_review[app_review['Rating']>4.5]"
      ],
      "execution_count": 0,
      "outputs": []
    },
    {
      "metadata": {
        "id": "zvMlgfKt4h3c",
        "colab_type": "code",
        "colab": {
          "base_uri": "https://localhost:8080/",
          "height": 306
        },
        "outputId": "602f15af-ad03-41b4-c5f4-854c8239d49b"
      },
      "cell_type": "code",
      "source": [
        "high_rating.head()"
      ],
      "execution_count": 7,
      "outputs": [
        {
          "output_type": "execute_result",
          "data": {
            "text/html": [
              "<div>\n",
              "<style scoped>\n",
              "    .dataframe tbody tr th:only-of-type {\n",
              "        vertical-align: middle;\n",
              "    }\n",
              "\n",
              "    .dataframe tbody tr th {\n",
              "        vertical-align: top;\n",
              "    }\n",
              "\n",
              "    .dataframe thead th {\n",
              "        text-align: right;\n",
              "    }\n",
              "</style>\n",
              "<table border=\"1\" class=\"dataframe\">\n",
              "  <thead>\n",
              "    <tr style=\"text-align: right;\">\n",
              "      <th></th>\n",
              "      <th>App</th>\n",
              "      <th>Category</th>\n",
              "      <th>Rating</th>\n",
              "      <th>Reviews</th>\n",
              "      <th>Size</th>\n",
              "      <th>Installs</th>\n",
              "      <th>Type</th>\n",
              "      <th>Price</th>\n",
              "      <th>Content Rating</th>\n",
              "      <th>Genres</th>\n",
              "      <th>Last Updated</th>\n",
              "      <th>Current Ver</th>\n",
              "      <th>Android Ver</th>\n",
              "    </tr>\n",
              "  </thead>\n",
              "  <tbody>\n",
              "    <tr>\n",
              "      <th>2</th>\n",
              "      <td>U Launcher Lite – FREE Live Cool Themes, Hide ...</td>\n",
              "      <td>ART_AND_DESIGN</td>\n",
              "      <td>4.7</td>\n",
              "      <td>87510</td>\n",
              "      <td>8.7M</td>\n",
              "      <td>5,000,000+</td>\n",
              "      <td>Free</td>\n",
              "      <td>0</td>\n",
              "      <td>Everyone</td>\n",
              "      <td>Art &amp; Design</td>\n",
              "      <td>August 1, 2018</td>\n",
              "      <td>1.2.4</td>\n",
              "      <td>4.0.3 and up</td>\n",
              "    </tr>\n",
              "    <tr>\n",
              "      <th>9</th>\n",
              "      <td>Kids Paint Free - Drawing Fun</td>\n",
              "      <td>ART_AND_DESIGN</td>\n",
              "      <td>4.7</td>\n",
              "      <td>121</td>\n",
              "      <td>3.1M</td>\n",
              "      <td>10,000+</td>\n",
              "      <td>Free</td>\n",
              "      <td>0</td>\n",
              "      <td>Everyone</td>\n",
              "      <td>Art &amp; Design;Creativity</td>\n",
              "      <td>July 3, 2018</td>\n",
              "      <td>2.8</td>\n",
              "      <td>4.0.3 and up</td>\n",
              "    </tr>\n",
              "    <tr>\n",
              "      <th>13</th>\n",
              "      <td>Mandala Coloring Book</td>\n",
              "      <td>ART_AND_DESIGN</td>\n",
              "      <td>4.6</td>\n",
              "      <td>4326</td>\n",
              "      <td>21M</td>\n",
              "      <td>100,000+</td>\n",
              "      <td>Free</td>\n",
              "      <td>0</td>\n",
              "      <td>Everyone</td>\n",
              "      <td>Art &amp; Design</td>\n",
              "      <td>June 26, 2018</td>\n",
              "      <td>1.0.4</td>\n",
              "      <td>4.4 and up</td>\n",
              "    </tr>\n",
              "    <tr>\n",
              "      <th>16</th>\n",
              "      <td>Photo Designer - Write your name with shapes</td>\n",
              "      <td>ART_AND_DESIGN</td>\n",
              "      <td>4.7</td>\n",
              "      <td>3632</td>\n",
              "      <td>5.5M</td>\n",
              "      <td>500,000+</td>\n",
              "      <td>Free</td>\n",
              "      <td>0</td>\n",
              "      <td>Everyone</td>\n",
              "      <td>Art &amp; Design</td>\n",
              "      <td>July 31, 2018</td>\n",
              "      <td>3.1</td>\n",
              "      <td>4.1 and up</td>\n",
              "    </tr>\n",
              "    <tr>\n",
              "      <th>19</th>\n",
              "      <td>ibis Paint X</td>\n",
              "      <td>ART_AND_DESIGN</td>\n",
              "      <td>4.6</td>\n",
              "      <td>224399</td>\n",
              "      <td>31M</td>\n",
              "      <td>10,000,000+</td>\n",
              "      <td>Free</td>\n",
              "      <td>0</td>\n",
              "      <td>Everyone</td>\n",
              "      <td>Art &amp; Design</td>\n",
              "      <td>July 30, 2018</td>\n",
              "      <td>5.5.4</td>\n",
              "      <td>4.1 and up</td>\n",
              "    </tr>\n",
              "  </tbody>\n",
              "</table>\n",
              "</div>"
            ],
            "text/plain": [
              "                                                  App        Category  Rating  \\\n",
              "2   U Launcher Lite – FREE Live Cool Themes, Hide ...  ART_AND_DESIGN     4.7   \n",
              "9                       Kids Paint Free - Drawing Fun  ART_AND_DESIGN     4.7   \n",
              "13                              Mandala Coloring Book  ART_AND_DESIGN     4.6   \n",
              "16       Photo Designer - Write your name with shapes  ART_AND_DESIGN     4.7   \n",
              "19                                       ibis Paint X  ART_AND_DESIGN     4.6   \n",
              "\n",
              "   Reviews  Size     Installs  Type Price Content Rating  \\\n",
              "2    87510  8.7M   5,000,000+  Free     0       Everyone   \n",
              "9      121  3.1M      10,000+  Free     0       Everyone   \n",
              "13    4326   21M     100,000+  Free     0       Everyone   \n",
              "16    3632  5.5M     500,000+  Free     0       Everyone   \n",
              "19  224399   31M  10,000,000+  Free     0       Everyone   \n",
              "\n",
              "                     Genres    Last Updated Current Ver   Android Ver  \n",
              "2              Art & Design  August 1, 2018       1.2.4  4.0.3 and up  \n",
              "9   Art & Design;Creativity    July 3, 2018         2.8  4.0.3 and up  \n",
              "13             Art & Design   June 26, 2018       1.0.4    4.4 and up  \n",
              "16             Art & Design   July 31, 2018         3.1    4.1 and up  \n",
              "19             Art & Design   July 30, 2018       5.5.4    4.1 and up  "
            ]
          },
          "metadata": {
            "tags": []
          },
          "execution_count": 7
        }
      ]
    },
    {
      "metadata": {
        "id": "wo0Rjtr22kJ0",
        "colab_type": "code",
        "colab": {
          "base_uri": "https://localhost:8080/",
          "height": 691
        },
        "outputId": "d3046bd1-bfc4-456a-e69e-5508ca0cc5c3"
      },
      "cell_type": "code",
      "source": [
        "plt.figure(figsize=(20,10))\n",
        "plt.tight_layout()\n",
        "plt.title('High Rating(4.5+) vs # of Reviews')\n",
        "ax=sns.countplot(x='Installs',data= high_rating)"
      ],
      "execution_count": 8,
      "outputs": [
        {
          "output_type": "display_data",
          "data": {
            "image/png": "[encoded data removed]",
            "text/plain": [
              "<matplotlib.figure.Figure at 0x7f462fdc1910>"
            ]
          },
          "metadata": {
            "tags": []
          }
        }
      ]
    },
    {
      "metadata": {
        "id": "osAiq_5C6ssr",
        "colab_type": "text"
      },
      "cell_type": "markdown",
      "source": [
        "We are looking if there is a correlation between the number of installs and high rating therefore we need to order by installs. Lets fix that! "
      ]
    },
    {
      "metadata": {
        "id": "uFBLaXYr8B5c",
        "colab_type": "text"
      },
      "cell_type": "markdown",
      "source": [
        "First lets remove the (+) in order to compare integers and sort by the comparison"
      ]
    },
    {
      "metadata": {
        "id": "gCOIdvRz8CI6",
        "colab_type": "code",
        "colab": {}
      },
      "cell_type": "code",
      "source": [
        "high_rating['Installs'] = high_rating['Installs'].astype(str).str[:-1]\n",
        "high_rating['Installs'] = high_rating['Installs'].str.replace(',', '')\n",
        "high_rating['Installs']= pd.to_numeric(high_rating['Installs'], errors='coerce').fillna(0).astype(np.int64)\n",
        "high_rating = high_rating.sort_values('Installs')"
      ],
      "execution_count": 0,
      "outputs": []
    },
    {
      "metadata": {
        "id": "l0H83wET8Boh",
        "colab_type": "code",
        "colab": {
          "base_uri": "https://localhost:8080/",
          "height": 306
        },
        "outputId": "27bd55a4-0d79-4b66-d03b-3fd70c08e97d"
      },
      "cell_type": "code",
      "source": [
        "high_rating.head()"
      ],
      "execution_count": 10,
      "outputs": [
        {
          "output_type": "execute_result",
          "data": {
            "text/html": [
              "<div>\n",
              "<style scoped>\n",
              "    .dataframe tbody tr th:only-of-type {\n",
              "        vertical-align: middle;\n",
              "    }\n",
              "\n",
              "    .dataframe tbody tr th {\n",
              "        vertical-align: top;\n",
              "    }\n",
              "\n",
              "    .dataframe thead th {\n",
              "        text-align: right;\n",
              "    }\n",
              "</style>\n",
              "<table border=\"1\" class=\"dataframe\">\n",
              "  <thead>\n",
              "    <tr style=\"text-align: right;\">\n",
              "      <th></th>\n",
              "      <th>App</th>\n",
              "      <th>Category</th>\n",
              "      <th>Rating</th>\n",
              "      <th>Reviews</th>\n",
              "      <th>Size</th>\n",
              "      <th>Installs</th>\n",
              "      <th>Type</th>\n",
              "      <th>Price</th>\n",
              "      <th>Content Rating</th>\n",
              "      <th>Genres</th>\n",
              "      <th>Last Updated</th>\n",
              "      <th>Current Ver</th>\n",
              "      <th>Android Ver</th>\n",
              "    </tr>\n",
              "  </thead>\n",
              "  <tbody>\n",
              "    <tr>\n",
              "      <th>10472</th>\n",
              "      <td>Life Made WI-Fi Touchscreen Photo Frame</td>\n",
              "      <td>1.9</td>\n",
              "      <td>19.0</td>\n",
              "      <td>3.0M</td>\n",
              "      <td>1,000+</td>\n",
              "      <td>0</td>\n",
              "      <td>0</td>\n",
              "      <td>Everyone</td>\n",
              "      <td>NaN</td>\n",
              "      <td>February 11, 2018</td>\n",
              "      <td>1.0.19</td>\n",
              "      <td>4.0 and up</td>\n",
              "      <td>NaN</td>\n",
              "    </tr>\n",
              "    <tr>\n",
              "      <th>10697</th>\n",
              "      <td>Mu.F.O.</td>\n",
              "      <td>GAME</td>\n",
              "      <td>5.0</td>\n",
              "      <td>2</td>\n",
              "      <td>16M</td>\n",
              "      <td>1</td>\n",
              "      <td>Paid</td>\n",
              "      <td>$0.99</td>\n",
              "      <td>Everyone</td>\n",
              "      <td>Arcade</td>\n",
              "      <td>March 3, 2017</td>\n",
              "      <td>1.0</td>\n",
              "      <td>2.3 and up</td>\n",
              "    </tr>\n",
              "    <tr>\n",
              "      <th>2454</th>\n",
              "      <td>KBA-EZ Health Guide</td>\n",
              "      <td>MEDICAL</td>\n",
              "      <td>5.0</td>\n",
              "      <td>4</td>\n",
              "      <td>25M</td>\n",
              "      <td>1</td>\n",
              "      <td>Free</td>\n",
              "      <td>0</td>\n",
              "      <td>Everyone</td>\n",
              "      <td>Medical</td>\n",
              "      <td>August 2, 2018</td>\n",
              "      <td>1.0.72</td>\n",
              "      <td>4.0.3 and up</td>\n",
              "    </tr>\n",
              "    <tr>\n",
              "      <th>5917</th>\n",
              "      <td>Ra Ga Ba</td>\n",
              "      <td>GAME</td>\n",
              "      <td>5.0</td>\n",
              "      <td>2</td>\n",
              "      <td>20M</td>\n",
              "      <td>1</td>\n",
              "      <td>Paid</td>\n",
              "      <td>$1.49</td>\n",
              "      <td>Everyone</td>\n",
              "      <td>Arcade</td>\n",
              "      <td>February 8, 2017</td>\n",
              "      <td>1.0.4</td>\n",
              "      <td>2.3 and up</td>\n",
              "    </tr>\n",
              "    <tr>\n",
              "      <th>2484</th>\n",
              "      <td>Clinic Doctor EHr</td>\n",
              "      <td>MEDICAL</td>\n",
              "      <td>5.0</td>\n",
              "      <td>2</td>\n",
              "      <td>7.1M</td>\n",
              "      <td>5</td>\n",
              "      <td>Free</td>\n",
              "      <td>0</td>\n",
              "      <td>Everyone</td>\n",
              "      <td>Medical</td>\n",
              "      <td>August 3, 2018</td>\n",
              "      <td>1.0.51.0.3</td>\n",
              "      <td>8.0 and up</td>\n",
              "    </tr>\n",
              "  </tbody>\n",
              "</table>\n",
              "</div>"
            ],
            "text/plain": [
              "                                           App Category  Rating Reviews  \\\n",
              "10472  Life Made WI-Fi Touchscreen Photo Frame      1.9    19.0    3.0M   \n",
              "10697                                  Mu.F.O.     GAME     5.0       2   \n",
              "2454                       KBA-EZ Health Guide  MEDICAL     5.0       4   \n",
              "5917                                  Ra Ga Ba     GAME     5.0       2   \n",
              "2484                         Clinic Doctor EHr  MEDICAL     5.0       2   \n",
              "\n",
              "         Size  Installs  Type     Price Content Rating             Genres  \\\n",
              "10472  1,000+         0     0  Everyone            NaN  February 11, 2018   \n",
              "10697     16M         1  Paid     $0.99       Everyone             Arcade   \n",
              "2454      25M         1  Free         0       Everyone            Medical   \n",
              "5917      20M         1  Paid     $1.49       Everyone             Arcade   \n",
              "2484     7.1M         5  Free         0       Everyone            Medical   \n",
              "\n",
              "           Last Updated Current Ver   Android Ver  \n",
              "10472            1.0.19  4.0 and up           NaN  \n",
              "10697     March 3, 2017         1.0    2.3 and up  \n",
              "2454     August 2, 2018      1.0.72  4.0.3 and up  \n",
              "5917   February 8, 2017       1.0.4    2.3 and up  \n",
              "2484     August 3, 2018  1.0.51.0.3    8.0 and up  "
            ]
          },
          "metadata": {
            "tags": []
          },
          "execution_count": 10
        }
      ]
    },
    {
      "metadata": {
        "id": "WOhVOGH_8z4p",
        "colab_type": "text"
      },
      "cell_type": "markdown",
      "source": [
        "Lets remove all the 0's so because I set all the 0's for the ones that didn't list the # of installs "
      ]
    },
    {
      "metadata": {
        "id": "Dd2IbBaS-Jrf",
        "colab_type": "code",
        "colab": {}
      },
      "cell_type": "code",
      "source": [
        "high_rating = high_rating[high_rating['Installs'] != 0]"
      ],
      "execution_count": 0,
      "outputs": []
    },
    {
      "metadata": {
        "id": "HpRXcHeY9MYt",
        "colab_type": "code",
        "colab": {
          "base_uri": "https://localhost:8080/",
          "height": 306
        },
        "outputId": "79cfd5cb-da41-4941-cb33-36aadf74c94e"
      },
      "cell_type": "code",
      "source": [
        "high_rating.head()"
      ],
      "execution_count": 12,
      "outputs": [
        {
          "output_type": "execute_result",
          "data": {
            "text/html": [
              "<div>\n",
              "<style scoped>\n",
              "    .dataframe tbody tr th:only-of-type {\n",
              "        vertical-align: middle;\n",
              "    }\n",
              "\n",
              "    .dataframe tbody tr th {\n",
              "        vertical-align: top;\n",
              "    }\n",
              "\n",
              "    .dataframe thead th {\n",
              "        text-align: right;\n",
              "    }\n",
              "</style>\n",
              "<table border=\"1\" class=\"dataframe\">\n",
              "  <thead>\n",
              "    <tr style=\"text-align: right;\">\n",
              "      <th></th>\n",
              "      <th>App</th>\n",
              "      <th>Category</th>\n",
              "      <th>Rating</th>\n",
              "      <th>Reviews</th>\n",
              "      <th>Size</th>\n",
              "      <th>Installs</th>\n",
              "      <th>Type</th>\n",
              "      <th>Price</th>\n",
              "      <th>Content Rating</th>\n",
              "      <th>Genres</th>\n",
              "      <th>Last Updated</th>\n",
              "      <th>Current Ver</th>\n",
              "      <th>Android Ver</th>\n",
              "    </tr>\n",
              "  </thead>\n",
              "  <tbody>\n",
              "    <tr>\n",
              "      <th>10697</th>\n",
              "      <td>Mu.F.O.</td>\n",
              "      <td>GAME</td>\n",
              "      <td>5.0</td>\n",
              "      <td>2</td>\n",
              "      <td>16M</td>\n",
              "      <td>1</td>\n",
              "      <td>Paid</td>\n",
              "      <td>$0.99</td>\n",
              "      <td>Everyone</td>\n",
              "      <td>Arcade</td>\n",
              "      <td>March 3, 2017</td>\n",
              "      <td>1.0</td>\n",
              "      <td>2.3 and up</td>\n",
              "    </tr>\n",
              "    <tr>\n",
              "      <th>2454</th>\n",
              "      <td>KBA-EZ Health Guide</td>\n",
              "      <td>MEDICAL</td>\n",
              "      <td>5.0</td>\n",
              "      <td>4</td>\n",
              "      <td>25M</td>\n",
              "      <td>1</td>\n",
              "      <td>Free</td>\n",
              "      <td>0</td>\n",
              "      <td>Everyone</td>\n",
              "      <td>Medical</td>\n",
              "      <td>August 2, 2018</td>\n",
              "      <td>1.0.72</td>\n",
              "      <td>4.0.3 and up</td>\n",
              "    </tr>\n",
              "    <tr>\n",
              "      <th>5917</th>\n",
              "      <td>Ra Ga Ba</td>\n",
              "      <td>GAME</td>\n",
              "      <td>5.0</td>\n",
              "      <td>2</td>\n",
              "      <td>20M</td>\n",
              "      <td>1</td>\n",
              "      <td>Paid</td>\n",
              "      <td>$1.49</td>\n",
              "      <td>Everyone</td>\n",
              "      <td>Arcade</td>\n",
              "      <td>February 8, 2017</td>\n",
              "      <td>1.0.4</td>\n",
              "      <td>2.3 and up</td>\n",
              "    </tr>\n",
              "    <tr>\n",
              "      <th>2484</th>\n",
              "      <td>Clinic Doctor EHr</td>\n",
              "      <td>MEDICAL</td>\n",
              "      <td>5.0</td>\n",
              "      <td>2</td>\n",
              "      <td>7.1M</td>\n",
              "      <td>5</td>\n",
              "      <td>Free</td>\n",
              "      <td>0</td>\n",
              "      <td>Everyone</td>\n",
              "      <td>Medical</td>\n",
              "      <td>August 3, 2018</td>\n",
              "      <td>1.0.51.0.3</td>\n",
              "      <td>8.0 and up</td>\n",
              "    </tr>\n",
              "    <tr>\n",
              "      <th>8146</th>\n",
              "      <td>CZ-Help</td>\n",
              "      <td>BOOKS_AND_REFERENCE</td>\n",
              "      <td>5.0</td>\n",
              "      <td>2</td>\n",
              "      <td>1.4M</td>\n",
              "      <td>5</td>\n",
              "      <td>Free</td>\n",
              "      <td>0</td>\n",
              "      <td>Everyone</td>\n",
              "      <td>Books &amp; Reference</td>\n",
              "      <td>July 13, 2018</td>\n",
              "      <td>0.1</td>\n",
              "      <td>4.4 and up</td>\n",
              "    </tr>\n",
              "  </tbody>\n",
              "</table>\n",
              "</div>"
            ],
            "text/plain": [
              "                       App             Category  Rating Reviews  Size  \\\n",
              "10697              Mu.F.O.                 GAME     5.0       2   16M   \n",
              "2454   KBA-EZ Health Guide              MEDICAL     5.0       4   25M   \n",
              "5917              Ra Ga Ba                 GAME     5.0       2   20M   \n",
              "2484     Clinic Doctor EHr              MEDICAL     5.0       2  7.1M   \n",
              "8146               CZ-Help  BOOKS_AND_REFERENCE     5.0       2  1.4M   \n",
              "\n",
              "       Installs  Type  Price Content Rating             Genres  \\\n",
              "10697         1  Paid  $0.99       Everyone             Arcade   \n",
              "2454          1  Free      0       Everyone            Medical   \n",
              "5917          1  Paid  $1.49       Everyone             Arcade   \n",
              "2484          5  Free      0       Everyone            Medical   \n",
              "8146          5  Free      0       Everyone  Books & Reference   \n",
              "\n",
              "           Last Updated Current Ver   Android Ver  \n",
              "10697     March 3, 2017         1.0    2.3 and up  \n",
              "2454     August 2, 2018      1.0.72  4.0.3 and up  \n",
              "5917   February 8, 2017       1.0.4    2.3 and up  \n",
              "2484     August 3, 2018  1.0.51.0.3    8.0 and up  \n",
              "8146      July 13, 2018         0.1    4.4 and up  "
            ]
          },
          "metadata": {
            "tags": []
          },
          "execution_count": 12
        }
      ]
    },
    {
      "metadata": {
        "id": "IGYPCJPI-7hL",
        "colab_type": "text"
      },
      "cell_type": "markdown",
      "source": [
        "Let's graph now!"
      ]
    },
    {
      "metadata": {
        "id": "p4w_y-S77IEV",
        "colab_type": "code",
        "colab": {
          "base_uri": "https://localhost:8080/",
          "height": 691
        },
        "outputId": "de38d4b5-0328-4ee4-b12e-7a46b9dc8164"
      },
      "cell_type": "code",
      "source": [
        "plt.figure(figsize=(20,10))\n",
        "plt.tight_layout()\n",
        "plt.title('High Rating(4.5+) vs # of Reviews')\n",
        "ax=sns.countplot(x='Installs',data= high_rating)"
      ],
      "execution_count": 13,
      "outputs": [
        {
          "output_type": "display_data",
          "data": {
            "image/png": "[encoded data removed]",
            "text/plain": [
              "<matplotlib.figure.Figure at 0x7f462fdc1a10>"
            ]
          },
          "metadata": {
            "tags": []
          }
        }
      ]
    },
    {
      "metadata": {
        "id": "myH6f9I6ACvA",
        "colab_type": "text"
      },
      "cell_type": "markdown",
      "source": [
        "Raw numbers don't seem like a good idea here; let's add a proportion for y axis. Let's first make the original data maniputable too and compare the proportions "
      ]
    },
    {
      "metadata": {
        "id": "jQfOGzH_7Mil",
        "colab_type": "code",
        "colab": {}
      },
      "cell_type": "code",
      "source": [
        "app_review['Installs'] = app_review['Installs'].astype(str).str[:-1]\n",
        "app_review['Installs'] = app_review['Installs'].str.replace(',', '')\n",
        "app_review['Installs']= pd.to_numeric(app_review['Installs'], errors='coerce').fillna(0).astype(np.int64)\n",
        "app_review = app_review.sort_values('Installs')"
      ],
      "execution_count": 0,
      "outputs": []
    },
    {
      "metadata": {
        "id": "SnE2mP_TDXE3",
        "colab_type": "text"
      },
      "cell_type": "markdown",
      "source": [
        "Lets add another column that tells us if the app has 4.5+ rating "
      ]
    },
    {
      "metadata": {
        "id": "krl2M5f-DY-v",
        "colab_type": "code",
        "colab": {}
      },
      "cell_type": "code",
      "source": [
        "app_review['4.5+'] = app_review['Rating'].map(lambda x: x > 4.5)"
      ],
      "execution_count": 0,
      "outputs": []
    },
    {
      "metadata": {
        "id": "pgJjK1ekD28W",
        "colab_type": "code",
        "colab": {
          "base_uri": "https://localhost:8080/",
          "height": 377
        },
        "outputId": "5416fe8f-e540-459e-ff6e-229a50db8c69"
      },
      "cell_type": "code",
      "source": [
        "app_review.head()"
      ],
      "execution_count": 16,
      "outputs": [
        {
          "output_type": "execute_result",
          "data": {
            "text/html": [
              "<div>\n",
              "<style scoped>\n",
              "    .dataframe tbody tr th:only-of-type {\n",
              "        vertical-align: middle;\n",
              "    }\n",
              "\n",
              "    .dataframe tbody tr th {\n",
              "        vertical-align: top;\n",
              "    }\n",
              "\n",
              "    .dataframe thead th {\n",
              "        text-align: right;\n",
              "    }\n",
              "</style>\n",
              "<table border=\"1\" class=\"dataframe\">\n",
              "  <thead>\n",
              "    <tr style=\"text-align: right;\">\n",
              "      <th></th>\n",
              "      <th>App</th>\n",
              "      <th>Category</th>\n",
              "      <th>Rating</th>\n",
              "      <th>Reviews</th>\n",
              "      <th>Size</th>\n",
              "      <th>Installs</th>\n",
              "      <th>Type</th>\n",
              "      <th>Price</th>\n",
              "      <th>Content Rating</th>\n",
              "      <th>Genres</th>\n",
              "      <th>Last Updated</th>\n",
              "      <th>Current Ver</th>\n",
              "      <th>Android Ver</th>\n",
              "      <th>4.5+</th>\n",
              "    </tr>\n",
              "  </thead>\n",
              "  <tbody>\n",
              "    <tr>\n",
              "      <th>9719</th>\n",
              "      <td>EP Cook Book</td>\n",
              "      <td>MEDICAL</td>\n",
              "      <td>NaN</td>\n",
              "      <td>0</td>\n",
              "      <td>3.2M</td>\n",
              "      <td>0</td>\n",
              "      <td>Paid</td>\n",
              "      <td>$200.00</td>\n",
              "      <td>Everyone</td>\n",
              "      <td>Medical</td>\n",
              "      <td>July 26, 2015</td>\n",
              "      <td>1.0</td>\n",
              "      <td>3.0 and up</td>\n",
              "      <td>False</td>\n",
              "    </tr>\n",
              "    <tr>\n",
              "      <th>4465</th>\n",
              "      <td>Popsicle Launcher for Android P 9.0 launcher</td>\n",
              "      <td>PERSONALIZATION</td>\n",
              "      <td>NaN</td>\n",
              "      <td>0</td>\n",
              "      <td>5.5M</td>\n",
              "      <td>0</td>\n",
              "      <td>Paid</td>\n",
              "      <td>$1.49</td>\n",
              "      <td>Everyone</td>\n",
              "      <td>Personalization</td>\n",
              "      <td>July 11, 2018</td>\n",
              "      <td>1.1</td>\n",
              "      <td>4.2 and up</td>\n",
              "      <td>False</td>\n",
              "    </tr>\n",
              "    <tr>\n",
              "      <th>8614</th>\n",
              "      <td>Sweden Newspapers</td>\n",
              "      <td>NEWS_AND_MAGAZINES</td>\n",
              "      <td>NaN</td>\n",
              "      <td>0</td>\n",
              "      <td>2.1M</td>\n",
              "      <td>0</td>\n",
              "      <td>Free</td>\n",
              "      <td>0</td>\n",
              "      <td>Everyone</td>\n",
              "      <td>News &amp; Magazines</td>\n",
              "      <td>July 7, 2018</td>\n",
              "      <td>1.1</td>\n",
              "      <td>4.4 and up</td>\n",
              "      <td>False</td>\n",
              "    </tr>\n",
              "    <tr>\n",
              "      <th>9905</th>\n",
              "      <td>Eu sou Rico</td>\n",
              "      <td>FINANCE</td>\n",
              "      <td>NaN</td>\n",
              "      <td>0</td>\n",
              "      <td>2.6M</td>\n",
              "      <td>0</td>\n",
              "      <td>Paid</td>\n",
              "      <td>$30.99</td>\n",
              "      <td>Everyone</td>\n",
              "      <td>Finance</td>\n",
              "      <td>January 9, 2018</td>\n",
              "      <td>1.0</td>\n",
              "      <td>4.0 and up</td>\n",
              "      <td>False</td>\n",
              "    </tr>\n",
              "    <tr>\n",
              "      <th>9917</th>\n",
              "      <td>Eu Sou Rico</td>\n",
              "      <td>FINANCE</td>\n",
              "      <td>NaN</td>\n",
              "      <td>0</td>\n",
              "      <td>1.4M</td>\n",
              "      <td>0</td>\n",
              "      <td>Paid</td>\n",
              "      <td>$394.99</td>\n",
              "      <td>Everyone</td>\n",
              "      <td>Finance</td>\n",
              "      <td>July 11, 2018</td>\n",
              "      <td>1.0</td>\n",
              "      <td>4.0.3 and up</td>\n",
              "      <td>False</td>\n",
              "    </tr>\n",
              "  </tbody>\n",
              "</table>\n",
              "</div>"
            ],
            "text/plain": [
              "                                               App            Category  \\\n",
              "9719                                  EP Cook Book             MEDICAL   \n",
              "4465  Popsicle Launcher for Android P 9.0 launcher     PERSONALIZATION   \n",
              "8614                             Sweden Newspapers  NEWS_AND_MAGAZINES   \n",
              "9905                                   Eu sou Rico             FINANCE   \n",
              "9917                                   Eu Sou Rico             FINANCE   \n",
              "\n",
              "      Rating Reviews  Size  Installs  Type    Price Content Rating  \\\n",
              "9719     NaN       0  3.2M         0  Paid  $200.00       Everyone   \n",
              "4465     NaN       0  5.5M         0  Paid    $1.49       Everyone   \n",
              "8614     NaN       0  2.1M         0  Free        0       Everyone   \n",
              "9905     NaN       0  2.6M         0  Paid   $30.99       Everyone   \n",
              "9917     NaN       0  1.4M         0  Paid  $394.99       Everyone   \n",
              "\n",
              "                Genres     Last Updated Current Ver   Android Ver   4.5+  \n",
              "9719           Medical    July 26, 2015         1.0    3.0 and up  False  \n",
              "4465   Personalization    July 11, 2018         1.1    4.2 and up  False  \n",
              "8614  News & Magazines     July 7, 2018         1.1    4.4 and up  False  \n",
              "9905           Finance  January 9, 2018         1.0    4.0 and up  False  \n",
              "9917           Finance    July 11, 2018         1.0  4.0.3 and up  False  "
            ]
          },
          "metadata": {
            "tags": []
          },
          "execution_count": 16
        }
      ]
    },
    {
      "metadata": {
        "id": "Woka-FsVD-YY",
        "colab_type": "text"
      },
      "cell_type": "markdown",
      "source": [
        "There's still data that has NaN rating! Let''s delete those "
      ]
    },
    {
      "metadata": {
        "id": "fIBZkaGfENCS",
        "colab_type": "code",
        "colab": {}
      },
      "cell_type": "code",
      "source": [
        "app_review = app_review[pd.notnull(app_review['Rating'])]"
      ],
      "execution_count": 0,
      "outputs": []
    },
    {
      "metadata": {
        "id": "B3PFHN65EsPQ",
        "colab_type": "code",
        "colab": {
          "base_uri": "https://localhost:8080/",
          "height": 306
        },
        "outputId": "86713a86-2a9e-472d-a16a-d352812bfa30"
      },
      "cell_type": "code",
      "source": [
        "app_review.head()"
      ],
      "execution_count": 18,
      "outputs": [
        {
          "output_type": "execute_result",
          "data": {
            "text/html": [
              "<div>\n",
              "<style scoped>\n",
              "    .dataframe tbody tr th:only-of-type {\n",
              "        vertical-align: middle;\n",
              "    }\n",
              "\n",
              "    .dataframe tbody tr th {\n",
              "        vertical-align: top;\n",
              "    }\n",
              "\n",
              "    .dataframe thead th {\n",
              "        text-align: right;\n",
              "    }\n",
              "</style>\n",
              "<table border=\"1\" class=\"dataframe\">\n",
              "  <thead>\n",
              "    <tr style=\"text-align: right;\">\n",
              "      <th></th>\n",
              "      <th>App</th>\n",
              "      <th>Category</th>\n",
              "      <th>Rating</th>\n",
              "      <th>Reviews</th>\n",
              "      <th>Size</th>\n",
              "      <th>Installs</th>\n",
              "      <th>Type</th>\n",
              "      <th>Price</th>\n",
              "      <th>Content Rating</th>\n",
              "      <th>Genres</th>\n",
              "      <th>Last Updated</th>\n",
              "      <th>Current Ver</th>\n",
              "      <th>Android Ver</th>\n",
              "      <th>4.5+</th>\n",
              "    </tr>\n",
              "  </thead>\n",
              "  <tbody>\n",
              "    <tr>\n",
              "      <th>10472</th>\n",
              "      <td>Life Made WI-Fi Touchscreen Photo Frame</td>\n",
              "      <td>1.9</td>\n",
              "      <td>19.0</td>\n",
              "      <td>3.0M</td>\n",
              "      <td>1,000+</td>\n",
              "      <td>0</td>\n",
              "      <td>0</td>\n",
              "      <td>Everyone</td>\n",
              "      <td>NaN</td>\n",
              "      <td>February 11, 2018</td>\n",
              "      <td>1.0.19</td>\n",
              "      <td>4.0 and up</td>\n",
              "      <td>NaN</td>\n",
              "      <td>True</td>\n",
              "    </tr>\n",
              "    <tr>\n",
              "      <th>5917</th>\n",
              "      <td>Ra Ga Ba</td>\n",
              "      <td>GAME</td>\n",
              "      <td>5.0</td>\n",
              "      <td>2</td>\n",
              "      <td>20M</td>\n",
              "      <td>1</td>\n",
              "      <td>Paid</td>\n",
              "      <td>$1.49</td>\n",
              "      <td>Everyone</td>\n",
              "      <td>Arcade</td>\n",
              "      <td>February 8, 2017</td>\n",
              "      <td>1.0.4</td>\n",
              "      <td>2.3 and up</td>\n",
              "      <td>True</td>\n",
              "    </tr>\n",
              "    <tr>\n",
              "      <th>10697</th>\n",
              "      <td>Mu.F.O.</td>\n",
              "      <td>GAME</td>\n",
              "      <td>5.0</td>\n",
              "      <td>2</td>\n",
              "      <td>16M</td>\n",
              "      <td>1</td>\n",
              "      <td>Paid</td>\n",
              "      <td>$0.99</td>\n",
              "      <td>Everyone</td>\n",
              "      <td>Arcade</td>\n",
              "      <td>March 3, 2017</td>\n",
              "      <td>1.0</td>\n",
              "      <td>2.3 and up</td>\n",
              "      <td>True</td>\n",
              "    </tr>\n",
              "    <tr>\n",
              "      <th>2454</th>\n",
              "      <td>KBA-EZ Health Guide</td>\n",
              "      <td>MEDICAL</td>\n",
              "      <td>5.0</td>\n",
              "      <td>4</td>\n",
              "      <td>25M</td>\n",
              "      <td>1</td>\n",
              "      <td>Free</td>\n",
              "      <td>0</td>\n",
              "      <td>Everyone</td>\n",
              "      <td>Medical</td>\n",
              "      <td>August 2, 2018</td>\n",
              "      <td>1.0.72</td>\n",
              "      <td>4.0.3 and up</td>\n",
              "      <td>True</td>\n",
              "    </tr>\n",
              "    <tr>\n",
              "      <th>7147</th>\n",
              "      <td>CB Heroes</td>\n",
              "      <td>SOCIAL</td>\n",
              "      <td>5.0</td>\n",
              "      <td>5</td>\n",
              "      <td>1.8M</td>\n",
              "      <td>5</td>\n",
              "      <td>Free</td>\n",
              "      <td>0</td>\n",
              "      <td>Everyone</td>\n",
              "      <td>Social</td>\n",
              "      <td>August 4, 2018</td>\n",
              "      <td>1.2.4</td>\n",
              "      <td>5.0 and up</td>\n",
              "      <td>True</td>\n",
              "    </tr>\n",
              "  </tbody>\n",
              "</table>\n",
              "</div>"
            ],
            "text/plain": [
              "                                           App Category  Rating Reviews  \\\n",
              "10472  Life Made WI-Fi Touchscreen Photo Frame      1.9    19.0    3.0M   \n",
              "5917                                  Ra Ga Ba     GAME     5.0       2   \n",
              "10697                                  Mu.F.O.     GAME     5.0       2   \n",
              "2454                       KBA-EZ Health Guide  MEDICAL     5.0       4   \n",
              "7147                                 CB Heroes   SOCIAL     5.0       5   \n",
              "\n",
              "         Size  Installs  Type     Price Content Rating             Genres  \\\n",
              "10472  1,000+         0     0  Everyone            NaN  February 11, 2018   \n",
              "5917      20M         1  Paid     $1.49       Everyone             Arcade   \n",
              "10697     16M         1  Paid     $0.99       Everyone             Arcade   \n",
              "2454      25M         1  Free         0       Everyone            Medical   \n",
              "7147     1.8M         5  Free         0       Everyone             Social   \n",
              "\n",
              "           Last Updated Current Ver   Android Ver  4.5+  \n",
              "10472            1.0.19  4.0 and up           NaN  True  \n",
              "5917   February 8, 2017       1.0.4    2.3 and up  True  \n",
              "10697     March 3, 2017         1.0    2.3 and up  True  \n",
              "2454     August 2, 2018      1.0.72  4.0.3 and up  True  \n",
              "7147     August 4, 2018       1.2.4    5.0 and up  True  "
            ]
          },
          "metadata": {
            "tags": []
          },
          "execution_count": 18
        }
      ]
    },
    {
      "metadata": {
        "id": "IvuZJCp8Exst",
        "colab_type": "text"
      },
      "cell_type": "markdown",
      "source": [
        "19.0 Rating with 0 Installs? What a great app! "
      ]
    },
    {
      "metadata": {
        "id": "trKF_fYOE5zY",
        "colab_type": "code",
        "colab": {}
      },
      "cell_type": "code",
      "source": [
        "app_review = app_review[app_review['Category']!= '1.9']"
      ],
      "execution_count": 0,
      "outputs": []
    },
    {
      "metadata": {
        "id": "i4WN5bREFVXG",
        "colab_type": "code",
        "colab": {
          "base_uri": "https://localhost:8080/",
          "height": 306
        },
        "outputId": "78a9cf7c-d2a2-4ad4-c489-9a0b41ea3824"
      },
      "cell_type": "code",
      "source": [
        "app_review.head()"
      ],
      "execution_count": 20,
      "outputs": [
        {
          "output_type": "execute_result",
          "data": {
            "text/html": [
              "<div>\n",
              "<style scoped>\n",
              "    .dataframe tbody tr th:only-of-type {\n",
              "        vertical-align: middle;\n",
              "    }\n",
              "\n",
              "    .dataframe tbody tr th {\n",
              "        vertical-align: top;\n",
              "    }\n",
              "\n",
              "    .dataframe thead th {\n",
              "        text-align: right;\n",
              "    }\n",
              "</style>\n",
              "<table border=\"1\" class=\"dataframe\">\n",
              "  <thead>\n",
              "    <tr style=\"text-align: right;\">\n",
              "      <th></th>\n",
              "      <th>App</th>\n",
              "      <th>Category</th>\n",
              "      <th>Rating</th>\n",
              "      <th>Reviews</th>\n",
              "      <th>Size</th>\n",
              "      <th>Installs</th>\n",
              "      <th>Type</th>\n",
              "      <th>Price</th>\n",
              "      <th>Content Rating</th>\n",
              "      <th>Genres</th>\n",
              "      <th>Last Updated</th>\n",
              "      <th>Current Ver</th>\n",
              "      <th>Android Ver</th>\n",
              "      <th>4.5+</th>\n",
              "    </tr>\n",
              "  </thead>\n",
              "  <tbody>\n",
              "    <tr>\n",
              "      <th>5917</th>\n",
              "      <td>Ra Ga Ba</td>\n",
              "      <td>GAME</td>\n",
              "      <td>5.0</td>\n",
              "      <td>2</td>\n",
              "      <td>20M</td>\n",
              "      <td>1</td>\n",
              "      <td>Paid</td>\n",
              "      <td>$1.49</td>\n",
              "      <td>Everyone</td>\n",
              "      <td>Arcade</td>\n",
              "      <td>February 8, 2017</td>\n",
              "      <td>1.0.4</td>\n",
              "      <td>2.3 and up</td>\n",
              "      <td>True</td>\n",
              "    </tr>\n",
              "    <tr>\n",
              "      <th>10697</th>\n",
              "      <td>Mu.F.O.</td>\n",
              "      <td>GAME</td>\n",
              "      <td>5.0</td>\n",
              "      <td>2</td>\n",
              "      <td>16M</td>\n",
              "      <td>1</td>\n",
              "      <td>Paid</td>\n",
              "      <td>$0.99</td>\n",
              "      <td>Everyone</td>\n",
              "      <td>Arcade</td>\n",
              "      <td>March 3, 2017</td>\n",
              "      <td>1.0</td>\n",
              "      <td>2.3 and up</td>\n",
              "      <td>True</td>\n",
              "    </tr>\n",
              "    <tr>\n",
              "      <th>2454</th>\n",
              "      <td>KBA-EZ Health Guide</td>\n",
              "      <td>MEDICAL</td>\n",
              "      <td>5.0</td>\n",
              "      <td>4</td>\n",
              "      <td>25M</td>\n",
              "      <td>1</td>\n",
              "      <td>Free</td>\n",
              "      <td>0</td>\n",
              "      <td>Everyone</td>\n",
              "      <td>Medical</td>\n",
              "      <td>August 2, 2018</td>\n",
              "      <td>1.0.72</td>\n",
              "      <td>4.0.3 and up</td>\n",
              "      <td>True</td>\n",
              "    </tr>\n",
              "    <tr>\n",
              "      <th>7147</th>\n",
              "      <td>CB Heroes</td>\n",
              "      <td>SOCIAL</td>\n",
              "      <td>5.0</td>\n",
              "      <td>5</td>\n",
              "      <td>1.8M</td>\n",
              "      <td>5</td>\n",
              "      <td>Free</td>\n",
              "      <td>0</td>\n",
              "      <td>Everyone</td>\n",
              "      <td>Social</td>\n",
              "      <td>August 4, 2018</td>\n",
              "      <td>1.2.4</td>\n",
              "      <td>5.0 and up</td>\n",
              "      <td>True</td>\n",
              "    </tr>\n",
              "    <tr>\n",
              "      <th>2459</th>\n",
              "      <td>Anatomy &amp; Physiology Vocabulary Exam Review App</td>\n",
              "      <td>MEDICAL</td>\n",
              "      <td>5.0</td>\n",
              "      <td>1</td>\n",
              "      <td>4.6M</td>\n",
              "      <td>5</td>\n",
              "      <td>Free</td>\n",
              "      <td>0</td>\n",
              "      <td>Everyone</td>\n",
              "      <td>Medical</td>\n",
              "      <td>August 2, 2018</td>\n",
              "      <td>2.0</td>\n",
              "      <td>4.0 and up</td>\n",
              "      <td>True</td>\n",
              "    </tr>\n",
              "  </tbody>\n",
              "</table>\n",
              "</div>"
            ],
            "text/plain": [
              "                                                   App Category  Rating  \\\n",
              "5917                                          Ra Ga Ba     GAME     5.0   \n",
              "10697                                          Mu.F.O.     GAME     5.0   \n",
              "2454                               KBA-EZ Health Guide  MEDICAL     5.0   \n",
              "7147                                         CB Heroes   SOCIAL     5.0   \n",
              "2459   Anatomy & Physiology Vocabulary Exam Review App  MEDICAL     5.0   \n",
              "\n",
              "      Reviews  Size  Installs  Type  Price Content Rating   Genres  \\\n",
              "5917        2   20M         1  Paid  $1.49       Everyone   Arcade   \n",
              "10697       2   16M         1  Paid  $0.99       Everyone   Arcade   \n",
              "2454        4   25M         1  Free      0       Everyone  Medical   \n",
              "7147        5  1.8M         5  Free      0       Everyone   Social   \n",
              "2459        1  4.6M         5  Free      0       Everyone  Medical   \n",
              "\n",
              "           Last Updated Current Ver   Android Ver  4.5+  \n",
              "5917   February 8, 2017       1.0.4    2.3 and up  True  \n",
              "10697     March 3, 2017         1.0    2.3 and up  True  \n",
              "2454     August 2, 2018      1.0.72  4.0.3 and up  True  \n",
              "7147     August 4, 2018       1.2.4    5.0 and up  True  \n",
              "2459     August 2, 2018         2.0    4.0 and up  True  "
            ]
          },
          "metadata": {
            "tags": []
          },
          "execution_count": 20
        }
      ]
    },
    {
      "metadata": {
        "id": "91E8hzNACTzi",
        "colab_type": "text"
      },
      "cell_type": "markdown",
      "source": [
        "Better! Let's group the data by if app has rating higher than 4.5 and use the lambda function in python to get a percentage of what apps meet this threshold "
      ]
    },
    {
      "metadata": {
        "id": "dNM6L5QGCfI8",
        "colab_type": "code",
        "colab": {}
      },
      "cell_type": "code",
      "source": [
        "highFilter = app_review.groupby(['Installs','4.5+']).sum()\n",
        "highFilter = highFilter.groupby(level=0).apply(lambda x: x / x.sum())\n",
        "highFilter = highFilter.reset_index()"
      ],
      "execution_count": 0,
      "outputs": []
    },
    {
      "metadata": {
        "id": "A9FBWIRBDCTt",
        "colab_type": "code",
        "colab": {
          "base_uri": "https://localhost:8080/",
          "height": 1165
        },
        "outputId": "3b65dabc-5c9b-4ccb-a0a0-bf6be3f5f877"
      },
      "cell_type": "code",
      "source": [
        "highFilter"
      ],
      "execution_count": 22,
      "outputs": [
        {
          "output_type": "execute_result",
          "data": {
            "text/html": [
              "<div>\n",
              "<style scoped>\n",
              "    .dataframe tbody tr th:only-of-type {\n",
              "        vertical-align: middle;\n",
              "    }\n",
              "\n",
              "    .dataframe tbody tr th {\n",
              "        vertical-align: top;\n",
              "    }\n",
              "\n",
              "    .dataframe thead th {\n",
              "        text-align: right;\n",
              "    }\n",
              "</style>\n",
              "<table border=\"1\" class=\"dataframe\">\n",
              "  <thead>\n",
              "    <tr style=\"text-align: right;\">\n",
              "      <th></th>\n",
              "      <th>Installs</th>\n",
              "      <th>4.5+</th>\n",
              "      <th>Rating</th>\n",
              "    </tr>\n",
              "  </thead>\n",
              "  <tbody>\n",
              "    <tr>\n",
              "      <th>0</th>\n",
              "      <td>1</td>\n",
              "      <td>True</td>\n",
              "      <td>1.000000</td>\n",
              "    </tr>\n",
              "    <tr>\n",
              "      <th>1</th>\n",
              "      <td>5</td>\n",
              "      <td>False</td>\n",
              "      <td>0.036145</td>\n",
              "    </tr>\n",
              "    <tr>\n",
              "      <th>2</th>\n",
              "      <td>5</td>\n",
              "      <td>True</td>\n",
              "      <td>0.963855</td>\n",
              "    </tr>\n",
              "    <tr>\n",
              "      <th>3</th>\n",
              "      <td>10</td>\n",
              "      <td>False</td>\n",
              "      <td>0.172987</td>\n",
              "    </tr>\n",
              "    <tr>\n",
              "      <th>4</th>\n",
              "      <td>10</td>\n",
              "      <td>True</td>\n",
              "      <td>0.827013</td>\n",
              "    </tr>\n",
              "    <tr>\n",
              "      <th>5</th>\n",
              "      <td>50</td>\n",
              "      <td>False</td>\n",
              "      <td>0.258182</td>\n",
              "    </tr>\n",
              "    <tr>\n",
              "      <th>6</th>\n",
              "      <td>50</td>\n",
              "      <td>True</td>\n",
              "      <td>0.741818</td>\n",
              "    </tr>\n",
              "    <tr>\n",
              "      <th>7</th>\n",
              "      <td>100</td>\n",
              "      <td>False</td>\n",
              "      <td>0.359416</td>\n",
              "    </tr>\n",
              "    <tr>\n",
              "      <th>8</th>\n",
              "      <td>100</td>\n",
              "      <td>True</td>\n",
              "      <td>0.640584</td>\n",
              "    </tr>\n",
              "    <tr>\n",
              "      <th>9</th>\n",
              "      <td>500</td>\n",
              "      <td>False</td>\n",
              "      <td>0.557832</td>\n",
              "    </tr>\n",
              "    <tr>\n",
              "      <th>10</th>\n",
              "      <td>500</td>\n",
              "      <td>True</td>\n",
              "      <td>0.442168</td>\n",
              "    </tr>\n",
              "    <tr>\n",
              "      <th>11</th>\n",
              "      <td>1000</td>\n",
              "      <td>False</td>\n",
              "      <td>0.621948</td>\n",
              "    </tr>\n",
              "    <tr>\n",
              "      <th>12</th>\n",
              "      <td>1000</td>\n",
              "      <td>True</td>\n",
              "      <td>0.378052</td>\n",
              "    </tr>\n",
              "    <tr>\n",
              "      <th>13</th>\n",
              "      <td>5000</td>\n",
              "      <td>False</td>\n",
              "      <td>0.782296</td>\n",
              "    </tr>\n",
              "    <tr>\n",
              "      <th>14</th>\n",
              "      <td>5000</td>\n",
              "      <td>True</td>\n",
              "      <td>0.217704</td>\n",
              "    </tr>\n",
              "    <tr>\n",
              "      <th>15</th>\n",
              "      <td>10000</td>\n",
              "      <td>False</td>\n",
              "      <td>0.801451</td>\n",
              "    </tr>\n",
              "    <tr>\n",
              "      <th>16</th>\n",
              "      <td>10000</td>\n",
              "      <td>True</td>\n",
              "      <td>0.198549</td>\n",
              "    </tr>\n",
              "    <tr>\n",
              "      <th>17</th>\n",
              "      <td>50000</td>\n",
              "      <td>False</td>\n",
              "      <td>0.819546</td>\n",
              "    </tr>\n",
              "    <tr>\n",
              "      <th>18</th>\n",
              "      <td>50000</td>\n",
              "      <td>True</td>\n",
              "      <td>0.180454</td>\n",
              "    </tr>\n",
              "    <tr>\n",
              "      <th>19</th>\n",
              "      <td>100000</td>\n",
              "      <td>False</td>\n",
              "      <td>0.809427</td>\n",
              "    </tr>\n",
              "    <tr>\n",
              "      <th>20</th>\n",
              "      <td>100000</td>\n",
              "      <td>True</td>\n",
              "      <td>0.190573</td>\n",
              "    </tr>\n",
              "    <tr>\n",
              "      <th>21</th>\n",
              "      <td>500000</td>\n",
              "      <td>False</td>\n",
              "      <td>0.793623</td>\n",
              "    </tr>\n",
              "    <tr>\n",
              "      <th>22</th>\n",
              "      <td>500000</td>\n",
              "      <td>True</td>\n",
              "      <td>0.206377</td>\n",
              "    </tr>\n",
              "    <tr>\n",
              "      <th>23</th>\n",
              "      <td>1000000</td>\n",
              "      <td>False</td>\n",
              "      <td>0.829154</td>\n",
              "    </tr>\n",
              "    <tr>\n",
              "      <th>24</th>\n",
              "      <td>1000000</td>\n",
              "      <td>True</td>\n",
              "      <td>0.170846</td>\n",
              "    </tr>\n",
              "    <tr>\n",
              "      <th>25</th>\n",
              "      <td>5000000</td>\n",
              "      <td>False</td>\n",
              "      <td>0.847692</td>\n",
              "    </tr>\n",
              "    <tr>\n",
              "      <th>26</th>\n",
              "      <td>5000000</td>\n",
              "      <td>True</td>\n",
              "      <td>0.152308</td>\n",
              "    </tr>\n",
              "    <tr>\n",
              "      <th>27</th>\n",
              "      <td>10000000</td>\n",
              "      <td>False</td>\n",
              "      <td>0.805070</td>\n",
              "    </tr>\n",
              "    <tr>\n",
              "      <th>28</th>\n",
              "      <td>10000000</td>\n",
              "      <td>True</td>\n",
              "      <td>0.194930</td>\n",
              "    </tr>\n",
              "    <tr>\n",
              "      <th>29</th>\n",
              "      <td>50000000</td>\n",
              "      <td>False</td>\n",
              "      <td>0.811928</td>\n",
              "    </tr>\n",
              "    <tr>\n",
              "      <th>30</th>\n",
              "      <td>50000000</td>\n",
              "      <td>True</td>\n",
              "      <td>0.188072</td>\n",
              "    </tr>\n",
              "    <tr>\n",
              "      <th>31</th>\n",
              "      <td>100000000</td>\n",
              "      <td>False</td>\n",
              "      <td>0.787618</td>\n",
              "    </tr>\n",
              "    <tr>\n",
              "      <th>32</th>\n",
              "      <td>100000000</td>\n",
              "      <td>True</td>\n",
              "      <td>0.212382</td>\n",
              "    </tr>\n",
              "    <tr>\n",
              "      <th>33</th>\n",
              "      <td>500000000</td>\n",
              "      <td>False</td>\n",
              "      <td>0.911239</td>\n",
              "    </tr>\n",
              "    <tr>\n",
              "      <th>34</th>\n",
              "      <td>500000000</td>\n",
              "      <td>True</td>\n",
              "      <td>0.088761</td>\n",
              "    </tr>\n",
              "    <tr>\n",
              "      <th>35</th>\n",
              "      <td>1000000000</td>\n",
              "      <td>False</td>\n",
              "      <td>1.000000</td>\n",
              "    </tr>\n",
              "  </tbody>\n",
              "</table>\n",
              "</div>"
            ],
            "text/plain": [
              "      Installs   4.5+    Rating\n",
              "0            1   True  1.000000\n",
              "1            5  False  0.036145\n",
              "2            5   True  0.963855\n",
              "3           10  False  0.172987\n",
              "4           10   True  0.827013\n",
              "5           50  False  0.258182\n",
              "6           50   True  0.741818\n",
              "7          100  False  0.359416\n",
              "8          100   True  0.640584\n",
              "9          500  False  0.557832\n",
              "10         500   True  0.442168\n",
              "11        1000  False  0.621948\n",
              "12        1000   True  0.378052\n",
              "13        5000  False  0.782296\n",
              "14        5000   True  0.217704\n",
              "15       10000  False  0.801451\n",
              "16       10000   True  0.198549\n",
              "17       50000  False  0.819546\n",
              "18       50000   True  0.180454\n",
              "19      100000  False  0.809427\n",
              "20      100000   True  0.190573\n",
              "21      500000  False  0.793623\n",
              "22      500000   True  0.206377\n",
              "23     1000000  False  0.829154\n",
              "24     1000000   True  0.170846\n",
              "25     5000000  False  0.847692\n",
              "26     5000000   True  0.152308\n",
              "27    10000000  False  0.805070\n",
              "28    10000000   True  0.194930\n",
              "29    50000000  False  0.811928\n",
              "30    50000000   True  0.188072\n",
              "31   100000000  False  0.787618\n",
              "32   100000000   True  0.212382\n",
              "33   500000000  False  0.911239\n",
              "34   500000000   True  0.088761\n",
              "35  1000000000  False  1.000000"
            ]
          },
          "metadata": {
            "tags": []
          },
          "execution_count": 22
        }
      ]
    },
    {
      "metadata": {
        "id": "cMkuTGzbSKlp",
        "colab_type": "code",
        "colab": {}
      },
      "cell_type": "code",
      "source": [
        "highFilter = highFilter[::2]"
      ],
      "execution_count": 0,
      "outputs": []
    },
    {
      "metadata": {
        "id": "JJ8-NLMBSe4v",
        "colab_type": "code",
        "colab": {
          "base_uri": "https://localhost:8080/",
          "height": 607
        },
        "outputId": "7a20ac08-5658-463b-ef86-4376282dba8f"
      },
      "cell_type": "code",
      "source": [
        "highFilter"
      ],
      "execution_count": 24,
      "outputs": [
        {
          "output_type": "execute_result",
          "data": {
            "text/html": [
              "<div>\n",
              "<style scoped>\n",
              "    .dataframe tbody tr th:only-of-type {\n",
              "        vertical-align: middle;\n",
              "    }\n",
              "\n",
              "    .dataframe tbody tr th {\n",
              "        vertical-align: top;\n",
              "    }\n",
              "\n",
              "    .dataframe thead th {\n",
              "        text-align: right;\n",
              "    }\n",
              "</style>\n",
              "<table border=\"1\" class=\"dataframe\">\n",
              "  <thead>\n",
              "    <tr style=\"text-align: right;\">\n",
              "      <th></th>\n",
              "      <th>Installs</th>\n",
              "      <th>4.5+</th>\n",
              "      <th>Rating</th>\n",
              "    </tr>\n",
              "  </thead>\n",
              "  <tbody>\n",
              "    <tr>\n",
              "      <th>0</th>\n",
              "      <td>1</td>\n",
              "      <td>True</td>\n",
              "      <td>1.000000</td>\n",
              "    </tr>\n",
              "    <tr>\n",
              "      <th>2</th>\n",
              "      <td>5</td>\n",
              "      <td>True</td>\n",
              "      <td>0.963855</td>\n",
              "    </tr>\n",
              "    <tr>\n",
              "      <th>4</th>\n",
              "      <td>10</td>\n",
              "      <td>True</td>\n",
              "      <td>0.827013</td>\n",
              "    </tr>\n",
              "    <tr>\n",
              "      <th>6</th>\n",
              "      <td>50</td>\n",
              "      <td>True</td>\n",
              "      <td>0.741818</td>\n",
              "    </tr>\n",
              "    <tr>\n",
              "      <th>8</th>\n",
              "      <td>100</td>\n",
              "      <td>True</td>\n",
              "      <td>0.640584</td>\n",
              "    </tr>\n",
              "    <tr>\n",
              "      <th>10</th>\n",
              "      <td>500</td>\n",
              "      <td>True</td>\n",
              "      <td>0.442168</td>\n",
              "    </tr>\n",
              "    <tr>\n",
              "      <th>12</th>\n",
              "      <td>1000</td>\n",
              "      <td>True</td>\n",
              "      <td>0.378052</td>\n",
              "    </tr>\n",
              "    <tr>\n",
              "      <th>14</th>\n",
              "      <td>5000</td>\n",
              "      <td>True</td>\n",
              "      <td>0.217704</td>\n",
              "    </tr>\n",
              "    <tr>\n",
              "      <th>16</th>\n",
              "      <td>10000</td>\n",
              "      <td>True</td>\n",
              "      <td>0.198549</td>\n",
              "    </tr>\n",
              "    <tr>\n",
              "      <th>18</th>\n",
              "      <td>50000</td>\n",
              "      <td>True</td>\n",
              "      <td>0.180454</td>\n",
              "    </tr>\n",
              "    <tr>\n",
              "      <th>20</th>\n",
              "      <td>100000</td>\n",
              "      <td>True</td>\n",
              "      <td>0.190573</td>\n",
              "    </tr>\n",
              "    <tr>\n",
              "      <th>22</th>\n",
              "      <td>500000</td>\n",
              "      <td>True</td>\n",
              "      <td>0.206377</td>\n",
              "    </tr>\n",
              "    <tr>\n",
              "      <th>24</th>\n",
              "      <td>1000000</td>\n",
              "      <td>True</td>\n",
              "      <td>0.170846</td>\n",
              "    </tr>\n",
              "    <tr>\n",
              "      <th>26</th>\n",
              "      <td>5000000</td>\n",
              "      <td>True</td>\n",
              "      <td>0.152308</td>\n",
              "    </tr>\n",
              "    <tr>\n",
              "      <th>28</th>\n",
              "      <td>10000000</td>\n",
              "      <td>True</td>\n",
              "      <td>0.194930</td>\n",
              "    </tr>\n",
              "    <tr>\n",
              "      <th>30</th>\n",
              "      <td>50000000</td>\n",
              "      <td>True</td>\n",
              "      <td>0.188072</td>\n",
              "    </tr>\n",
              "    <tr>\n",
              "      <th>32</th>\n",
              "      <td>100000000</td>\n",
              "      <td>True</td>\n",
              "      <td>0.212382</td>\n",
              "    </tr>\n",
              "    <tr>\n",
              "      <th>34</th>\n",
              "      <td>500000000</td>\n",
              "      <td>True</td>\n",
              "      <td>0.088761</td>\n",
              "    </tr>\n",
              "  </tbody>\n",
              "</table>\n",
              "</div>"
            ],
            "text/plain": [
              "     Installs  4.5+    Rating\n",
              "0           1  True  1.000000\n",
              "2           5  True  0.963855\n",
              "4          10  True  0.827013\n",
              "6          50  True  0.741818\n",
              "8         100  True  0.640584\n",
              "10        500  True  0.442168\n",
              "12       1000  True  0.378052\n",
              "14       5000  True  0.217704\n",
              "16      10000  True  0.198549\n",
              "18      50000  True  0.180454\n",
              "20     100000  True  0.190573\n",
              "22     500000  True  0.206377\n",
              "24    1000000  True  0.170846\n",
              "26    5000000  True  0.152308\n",
              "28   10000000  True  0.194930\n",
              "30   50000000  True  0.188072\n",
              "32  100000000  True  0.212382\n",
              "34  500000000  True  0.088761"
            ]
          },
          "metadata": {
            "tags": []
          },
          "execution_count": 24
        }
      ]
    },
    {
      "metadata": {
        "id": "m1JDzvbUFxgr",
        "colab_type": "code",
        "colab": {
          "base_uri": "https://localhost:8080/",
          "height": 725
        },
        "outputId": "762e4a9a-868a-42a8-bba4-7d6b982ab8ed"
      },
      "cell_type": "code",
      "source": [
        "plt.figure(figsize=(20,10))\n",
        "plt.tight_layout()\n",
        "plt.title('High Rating(4.5+) vs # of Reviews')\n",
        "ax=sns.barplot(x=\"Installs\", y='Rating', data=highFilter)\n",
        "ax.set(xlabel='# of Installs', ylabel='Proportion of 4.5+ to All Ratings')"
      ],
      "execution_count": 25,
      "outputs": [
        {
          "output_type": "execute_result",
          "data": {
            "text/plain": [
              "[Text(0,0.5,u'Proportion of 4.5+ to All Ratings'),\n",
              " Text(0.5,0,u'# of Installs')]"
            ]
          },
          "metadata": {
            "tags": []
          },
          "execution_count": 25
        },
        {
          "output_type": "display_data",
          "data": {
            "image/png": "[encoded data removed]",
            "text/plain": [
              "<matplotlib.figure.Figure at 0x7f462dc3c190>"
            ]
          },
          "metadata": {
            "tags": []
          }
        }
      ]
    },
    {
      "metadata": {
        "id": "ZqY-rSbVTBLc",
        "colab_type": "text"
      },
      "cell_type": "markdown",
      "source": [
        "Judging from the graph, I can't draw any conclusive evidence of review inflation as the graph looks normal until it drops to around 50k then the proportions starts flatlining around .2 of overall apps.\n",
        "\n",
        "Although I find it hard to believe that .2 of apps that get downloaded 50k+,100k+,500k+,1Mil+,5Mil+,10Mil+,50Mil+,100Mil+ have achieved ratings above 4.5, I can think of ways to inflate the reviews such as incentivizing a 5 star rating on the google play store. \n",
        "\n",
        "However, there is a massive drop in the proportion of 4.5+ stars as we go from 100 Million Downloads to 500 Million Downloads, this can be attributed to a very small sample size for apps downloaded more than 500 million times. "
      ]
    },
    {
      "metadata": {
        "id": "C-99a-JvWP6C",
        "colab_type": "text"
      },
      "cell_type": "markdown",
      "source": [
        "# Comparison between Sentiment and High Rating (4.5+)"
      ]
    },
    {
      "metadata": {
        "id": "DtG8fLxgWoOd",
        "colab_type": "text"
      },
      "cell_type": "markdown",
      "source": [
        "For this section we will be exploring whether there is a difference in sentiment between \"High Rating\" Apps and the rest of the apps. We will be comparing two line graphs to see if high rating constitutes more positive sentiments. To account for difference in # of reviews, we are going to use a proportion of sentiment as our y-axis and we will be using # of downloads as our x-axis.  \n",
        "\n",
        "**Our Y-AXIS will have two lines running through, one will be proportion of positive sentiment in high rating applications and the other will be the proportion of sentiment in all the applications (The difference should show us how much impact high rating has on the actual sentiments of reviews)**"
      ]
    },
    {
      "metadata": {
        "id": "bLjiKUfGPQ4d",
        "colab_type": "code",
        "colab": {
          "base_uri": "https://localhost:8080/",
          "height": 306
        },
        "outputId": "eba7b0aa-a4b0-445f-aa97-94d20f1d6791"
      },
      "cell_type": "code",
      "source": [
        "app_review.head()"
      ],
      "execution_count": 26,
      "outputs": [
        {
          "output_type": "execute_result",
          "data": {
            "text/html": [
              "<div>\n",
              "<style scoped>\n",
              "    .dataframe tbody tr th:only-of-type {\n",
              "        vertical-align: middle;\n",
              "    }\n",
              "\n",
              "    .dataframe tbody tr th {\n",
              "        vertical-align: top;\n",
              "    }\n",
              "\n",
              "    .dataframe thead th {\n",
              "        text-align: right;\n",
              "    }\n",
              "</style>\n",
              "<table border=\"1\" class=\"dataframe\">\n",
              "  <thead>\n",
              "    <tr style=\"text-align: right;\">\n",
              "      <th></th>\n",
              "      <th>App</th>\n",
              "      <th>Category</th>\n",
              "      <th>Rating</th>\n",
              "      <th>Reviews</th>\n",
              "      <th>Size</th>\n",
              "      <th>Installs</th>\n",
              "      <th>Type</th>\n",
              "      <th>Price</th>\n",
              "      <th>Content Rating</th>\n",
              "      <th>Genres</th>\n",
              "      <th>Last Updated</th>\n",
              "      <th>Current Ver</th>\n",
              "      <th>Android Ver</th>\n",
              "      <th>4.5+</th>\n",
              "    </tr>\n",
              "  </thead>\n",
              "  <tbody>\n",
              "    <tr>\n",
              "      <th>5917</th>\n",
              "      <td>Ra Ga Ba</td>\n",
              "      <td>GAME</td>\n",
              "      <td>5.0</td>\n",
              "      <td>2</td>\n",
              "      <td>20M</td>\n",
              "      <td>1</td>\n",
              "      <td>Paid</td>\n",
              "      <td>$1.49</td>\n",
              "      <td>Everyone</td>\n",
              "      <td>Arcade</td>\n",
              "      <td>February 8, 2017</td>\n",
              "      <td>1.0.4</td>\n",
              "      <td>2.3 and up</td>\n",
              "      <td>True</td>\n",
              "    </tr>\n",
              "    <tr>\n",
              "      <th>10697</th>\n",
              "      <td>Mu.F.O.</td>\n",
              "      <td>GAME</td>\n",
              "      <td>5.0</td>\n",
              "      <td>2</td>\n",
              "      <td>16M</td>\n",
              "      <td>1</td>\n",
              "      <td>Paid</td>\n",
              "      <td>$0.99</td>\n",
              "      <td>Everyone</td>\n",
              "      <td>Arcade</td>\n",
              "      <td>March 3, 2017</td>\n",
              "      <td>1.0</td>\n",
              "      <td>2.3 and up</td>\n",
              "      <td>True</td>\n",
              "    </tr>\n",
              "    <tr>\n",
              "      <th>2454</th>\n",
              "      <td>KBA-EZ Health Guide</td>\n",
              "      <td>MEDICAL</td>\n",
              "      <td>5.0</td>\n",
              "      <td>4</td>\n",
              "      <td>25M</td>\n",
              "      <td>1</td>\n",
              "      <td>Free</td>\n",
              "      <td>0</td>\n",
              "      <td>Everyone</td>\n",
              "      <td>Medical</td>\n",
              "      <td>August 2, 2018</td>\n",
              "      <td>1.0.72</td>\n",
              "      <td>4.0.3 and up</td>\n",
              "      <td>True</td>\n",
              "    </tr>\n",
              "    <tr>\n",
              "      <th>7147</th>\n",
              "      <td>CB Heroes</td>\n",
              "      <td>SOCIAL</td>\n",
              "      <td>5.0</td>\n",
              "      <td>5</td>\n",
              "      <td>1.8M</td>\n",
              "      <td>5</td>\n",
              "      <td>Free</td>\n",
              "      <td>0</td>\n",
              "      <td>Everyone</td>\n",
              "      <td>Social</td>\n",
              "      <td>August 4, 2018</td>\n",
              "      <td>1.2.4</td>\n",
              "      <td>5.0 and up</td>\n",
              "      <td>True</td>\n",
              "    </tr>\n",
              "    <tr>\n",
              "      <th>2459</th>\n",
              "      <td>Anatomy &amp; Physiology Vocabulary Exam Review App</td>\n",
              "      <td>MEDICAL</td>\n",
              "      <td>5.0</td>\n",
              "      <td>1</td>\n",
              "      <td>4.6M</td>\n",
              "      <td>5</td>\n",
              "      <td>Free</td>\n",
              "      <td>0</td>\n",
              "      <td>Everyone</td>\n",
              "      <td>Medical</td>\n",
              "      <td>August 2, 2018</td>\n",
              "      <td>2.0</td>\n",
              "      <td>4.0 and up</td>\n",
              "      <td>True</td>\n",
              "    </tr>\n",
              "  </tbody>\n",
              "</table>\n",
              "</div>"
            ],
            "text/plain": [
              "                                                   App Category  Rating  \\\n",
              "5917                                          Ra Ga Ba     GAME     5.0   \n",
              "10697                                          Mu.F.O.     GAME     5.0   \n",
              "2454                               KBA-EZ Health Guide  MEDICAL     5.0   \n",
              "7147                                         CB Heroes   SOCIAL     5.0   \n",
              "2459   Anatomy & Physiology Vocabulary Exam Review App  MEDICAL     5.0   \n",
              "\n",
              "      Reviews  Size  Installs  Type  Price Content Rating   Genres  \\\n",
              "5917        2   20M         1  Paid  $1.49       Everyone   Arcade   \n",
              "10697       2   16M         1  Paid  $0.99       Everyone   Arcade   \n",
              "2454        4   25M         1  Free      0       Everyone  Medical   \n",
              "7147        5  1.8M         5  Free      0       Everyone   Social   \n",
              "2459        1  4.6M         5  Free      0       Everyone  Medical   \n",
              "\n",
              "           Last Updated Current Ver   Android Ver  4.5+  \n",
              "5917   February 8, 2017       1.0.4    2.3 and up  True  \n",
              "10697     March 3, 2017         1.0    2.3 and up  True  \n",
              "2454     August 2, 2018      1.0.72  4.0.3 and up  True  \n",
              "7147     August 4, 2018       1.2.4    5.0 and up  True  \n",
              "2459     August 2, 2018         2.0    4.0 and up  True  "
            ]
          },
          "metadata": {
            "tags": []
          },
          "execution_count": 26
        }
      ]
    },
    {
      "metadata": {
        "id": "iJfn7mJLu4HV",
        "colab_type": "text"
      },
      "cell_type": "markdown",
      "source": [
        "Let's drop all the reviews that have null sentiment "
      ]
    },
    {
      "metadata": {
        "id": "-qJSNBqgPd73",
        "colab_type": "code",
        "colab": {
          "base_uri": "https://localhost:8080/",
          "height": 204
        },
        "outputId": "88499a58-058b-4c93-f097-96670505ec25"
      },
      "cell_type": "code",
      "source": [
        "reviewFilter = app_play.dropna()\n",
        "reviewFilter.head()"
      ],
      "execution_count": 27,
      "outputs": [
        {
          "output_type": "execute_result",
          "data": {
            "text/html": [
              "<div>\n",
              "<style scoped>\n",
              "    .dataframe tbody tr th:only-of-type {\n",
              "        vertical-align: middle;\n",
              "    }\n",
              "\n",
              "    .dataframe tbody tr th {\n",
              "        vertical-align: top;\n",
              "    }\n",
              "\n",
              "    .dataframe thead th {\n",
              "        text-align: right;\n",
              "    }\n",
              "</style>\n",
              "<table border=\"1\" class=\"dataframe\">\n",
              "  <thead>\n",
              "    <tr style=\"text-align: right;\">\n",
              "      <th></th>\n",
              "      <th>App</th>\n",
              "      <th>Translated_Review</th>\n",
              "      <th>Sentiment</th>\n",
              "      <th>Sentiment_Polarity</th>\n",
              "      <th>Sentiment_Subjectivity</th>\n",
              "    </tr>\n",
              "  </thead>\n",
              "  <tbody>\n",
              "    <tr>\n",
              "      <th>0</th>\n",
              "      <td>10 Best Foods for You</td>\n",
              "      <td>I like eat delicious food. That's I'm cooking ...</td>\n",
              "      <td>Positive</td>\n",
              "      <td>1.00</td>\n",
              "      <td>0.533333</td>\n",
              "    </tr>\n",
              "    <tr>\n",
              "      <th>1</th>\n",
              "      <td>10 Best Foods for You</td>\n",
              "      <td>This help eating healthy exercise regular basis</td>\n",
              "      <td>Positive</td>\n",
              "      <td>0.25</td>\n",
              "      <td>0.288462</td>\n",
              "    </tr>\n",
              "    <tr>\n",
              "      <th>3</th>\n",
              "      <td>10 Best Foods for You</td>\n",
              "      <td>Works great especially going grocery store</td>\n",
              "      <td>Positive</td>\n",
              "      <td>0.40</td>\n",
              "      <td>0.875000</td>\n",
              "    </tr>\n",
              "    <tr>\n",
              "      <th>4</th>\n",
              "      <td>10 Best Foods for You</td>\n",
              "      <td>Best idea us</td>\n",
              "      <td>Positive</td>\n",
              "      <td>1.00</td>\n",
              "      <td>0.300000</td>\n",
              "    </tr>\n",
              "    <tr>\n",
              "      <th>5</th>\n",
              "      <td>10 Best Foods for You</td>\n",
              "      <td>Best way</td>\n",
              "      <td>Positive</td>\n",
              "      <td>1.00</td>\n",
              "      <td>0.300000</td>\n",
              "    </tr>\n",
              "  </tbody>\n",
              "</table>\n",
              "</div>"
            ],
            "text/plain": [
              "                     App                                  Translated_Review  \\\n",
              "0  10 Best Foods for You  I like eat delicious food. That's I'm cooking ...   \n",
              "1  10 Best Foods for You    This help eating healthy exercise regular basis   \n",
              "3  10 Best Foods for You         Works great especially going grocery store   \n",
              "4  10 Best Foods for You                                       Best idea us   \n",
              "5  10 Best Foods for You                                           Best way   \n",
              "\n",
              "  Sentiment  Sentiment_Polarity  Sentiment_Subjectivity  \n",
              "0  Positive                1.00                0.533333  \n",
              "1  Positive                0.25                0.288462  \n",
              "3  Positive                0.40                0.875000  \n",
              "4  Positive                1.00                0.300000  \n",
              "5  Positive                1.00                0.300000  "
            ]
          },
          "metadata": {
            "tags": []
          },
          "execution_count": 27
        }
      ]
    },
    {
      "metadata": {
        "id": "PIFDKV5puml_",
        "colab_type": "text"
      },
      "cell_type": "markdown",
      "source": [
        "We are looking for a proportion of positive sentiment to the total therefore we want to segment the positive from the total. (We will be combining them for a proper proportion later)"
      ]
    },
    {
      "metadata": {
        "id": "3gW-hATEQggO",
        "colab_type": "code",
        "colab": {}
      },
      "cell_type": "code",
      "source": [
        "posFilter = reviewFilter[reviewFilter['Sentiment'] == 'Positive']"
      ],
      "execution_count": 0,
      "outputs": []
    },
    {
      "metadata": {
        "id": "xxzGyIZkQju-",
        "colab_type": "code",
        "colab": {}
      },
      "cell_type": "code",
      "source": [
        "totalCount = posFilter.groupby('App').count()"
      ],
      "execution_count": 0,
      "outputs": []
    },
    {
      "metadata": {
        "id": "TKISpNrfRo2W",
        "colab_type": "code",
        "colab": {
          "base_uri": "https://localhost:8080/",
          "height": 1088
        },
        "outputId": "ab11ee8f-eb6b-49b0-c9fb-ae33e00b646e"
      },
      "cell_type": "code",
      "source": [
        "totalCount['Sentiment']"
      ],
      "execution_count": 30,
      "outputs": [
        {
          "output_type": "execute_result",
          "data": {
            "text/plain": [
              "App\n",
              "10 Best Foods for You                                 162\n",
              "104 找工作 - 找工作 找打工 找兼職 履歷健檢 履歷診療室                       31\n",
              "11st                                                   23\n",
              "1800 Contacts - Lens Store                             64\n",
              "1LINE – One Line with One Touch                        27\n",
              "2018Emoji Keyboard 😂 Emoticons Lite -sticker&gif       25\n",
              "21-Day Meditation Experience                           68\n",
              "2Date Dating App, Love and matching                    26\n",
              "2GIS: directory & navigator                            23\n",
              "2RedBeans                                              31\n",
              "2ndLine - Second Phone Number                          17\n",
              "30 Day Fitness Challenge - Workout at Home             27\n",
              "365Scores - Live Scores                                 5\n",
              "3D Live Neon Weed Launcher                              2\n",
              "4 in a Row                                             17\n",
              "4K Wallpapers and Ultra HD Backgrounds                  7\n",
              "591房屋交易-租屋、中古屋、新建案、實價登錄、別墅透天、公寓套房、捷運、買房賣房行情、房價房貸查詢      5\n",
              "591房屋交易-香港                                              5\n",
              "7 Cups: Anxiety & Stress Chat                           7\n",
              "7 Day Food Journal Challenge                            9\n",
              "7 Minute Workout                                       10\n",
              "7 Weeks - Habit & Goal Tracker                         10\n",
              "8 Ball Pool                                           104\n",
              "850 Sports News Digest                                 38\n",
              "8fit Workouts & Meal Planner                          137\n",
              "95Live -SG#1 Live Streaming App                        34\n",
              "A Call From Santa Claus!                               20\n",
              "A Word A Day                                            3\n",
              "A&E - Watch Full Episodes of TV Shows                  30\n",
              "A+ Gallery - Photos & Videos                           24\n",
              "                                                     ... \n",
              "HipChat - Chat Built for Teams                         19\n",
              "Hipmunk Hotels & Flights                               30\n",
              "Hitwe - meet people and chat                            2\n",
              "Hole19: Golf GPS App, Rangefinder & Scorecard          18\n",
              "Home Decor Showpiece Art making: Medium Difficulty     16\n",
              "Home Scouting® MLS Mobile                              13\n",
              "Home Security Camera WardenCam - reuse old phones      18\n",
              "Home Street – Home Design Game                         42\n",
              "Home Workout - No Equipment                            24\n",
              "Home Workout for Men - Bodybuilding                    22\n",
              "Home workouts - fat burning, abs, legs, arms,chest      8\n",
              "HomeWork                                                1\n",
              "Homes.com 🏠 For Sale, Rent                             11\n",
              "Homescapes                                             27\n",
              "Homesnap Real Estate & Rentals                         25\n",
              "Homestyler Interior Design & Decorating Ideas          19\n",
              "Homework Planner                                       33\n",
              "Honkai Impact 3rd                                      54\n",
              "Hopper - Watch & Book Flights                          54\n",
              "Horoscopes – Daily Zodiac Horoscope and Astrology      21\n",
              "Horses Live Wallpaper                                  22\n",
              "Hostelworld: Hostels & Cheap Hotels Travel App         42\n",
              "Hot Wheels: Race Off                                   14\n",
              "HotelTonight: Book amazing deals at great hotels       93\n",
              "Hotels Combined - Cheap deals                          15\n",
              "Hotels.com: Book Hotel Rooms & Find Vacation Deals     39\n",
              "Hotspot Shield Free VPN Proxy & Wi-Fi Security         17\n",
              "Hotstar                                                14\n",
              "Hotwire Hotel & Car Rental App                         16\n",
              "Housing-Real Estate & Property                          8\n",
              "Name: Sentiment, Length: 853, dtype: int64"
            ]
          },
          "metadata": {
            "tags": []
          },
          "execution_count": 30
        }
      ]
    },
    {
      "metadata": {
        "id": "_iszCCZTnbWd",
        "colab_type": "code",
        "colab": {}
      },
      "cell_type": "code",
      "source": [
        ""
      ],
      "execution_count": 0,
      "outputs": []
    }
  ]
}