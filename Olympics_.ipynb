{
  "nbformat": 4,
  "nbformat_minor": 0,
  "metadata": {
    "colab": {
      "name": "Olympics .ipynb",
      "version": "0.3.2",
      "provenance": [],
      "include_colab_link": true
    },
    "kernelspec": {
      "display_name": "Python 3",
      "language": "python",
      "name": "python3"
    }
  },
  "cells": [
    {
      "cell_type": "markdown",
      "metadata": {
        "id": "view-in-github",
        "colab_type": "text"
      },
      "source": [
        "[View in Colaboratory](https://colab.research.google.com/github/KenJiangg/Exploring-Datasets/blob/master/Olympics_.ipynb)"
      ]
    },
    {
      "metadata": {
        "id": "UWgGBQx4wHoT",
        "colab_type": "text"
      },
      "cell_type": "markdown",
      "source": [
        "I am working on Google Colab. so I need to add this in order to access the files "
      ]
    },
    {
      "metadata": {
        "id": "cV2IYZNnvolj",
        "colab_type": "code",
        "colab": {
          "base_uri": "https://localhost:8080/",
          "height": 34
        },
        "outputId": "ad2ba60e-04da-4be9-95eb-d1f6e1f844c8"
      },
      "cell_type": "code",
      "source": [
        "# Load the Drive helper and mount\n",
        "from google.colab import drive\n",
        "\n",
        "# This will prompt for authorization.\n",
        "drive.mount('/content/drive')"
      ],
      "execution_count": 1,
      "outputs": [
        {
          "output_type": "stream",
          "text": [
            "Mounted at /content/drive\n"
          ],
          "name": "stdout"
        }
      ]
    },
    {
      "metadata": {
        "id": "Mk6jFEYkTLRi",
        "colab_type": "text"
      },
      "cell_type": "markdown",
      "source": [
        "Get the libraries needed for data analysis "
      ]
    },
    {
      "metadata": {
        "id": "OuRVbOW8vfi_",
        "colab_type": "code",
        "colab": {}
      },
      "cell_type": "code",
      "source": [
        "import pandas as pd\n",
        "import numpy as np\n",
        "\n",
        "# matplotlib and seaborn for plotting\n",
        "import matplotlib.pyplot as plt\n",
        "import seaborn as sns\n",
        "\n",
        "# Suppress warnings from pandas\n",
        "import warnings\n",
        "warnings.filterwarnings('ignore')\n",
        "\n",
        "plt.style.use('fivethirtyeight')\n"
      ],
      "execution_count": 0,
      "outputs": []
    },
    {
      "metadata": {
        "id": "KFkqPZ9oQiIH",
        "colab_type": "text"
      },
      "cell_type": "markdown",
      "source": [
        "read the data"
      ]
    },
    {
      "metadata": {
        "id": "eztA_ECXvfjE",
        "colab_type": "code",
        "colab": {}
      },
      "cell_type": "code",
      "source": [
        "data = pd.read_csv('drive/My Drive/Kaggle/Olympics Dataset/athlete_events.csv')\n",
        "regions = pd.read_csv('drive/My Drive/Kaggle/Olympics Dataset/noc_regions.csv')"
      ],
      "execution_count": 0,
      "outputs": []
    },
    {
      "metadata": {
        "id": "FUVmYNnJvfjH",
        "colab_type": "code",
        "colab": {
          "base_uri": "https://localhost:8080/",
          "height": 289
        },
        "outputId": "8c313cf6-9b0f-495d-f99c-914899153501"
      },
      "cell_type": "code",
      "source": [
        "data.head(5)"
      ],
      "execution_count": 4,
      "outputs": [
        {
          "output_type": "execute_result",
          "data": {
            "text/html": [
              "<div>\n",
              "<style scoped>\n",
              "    .dataframe tbody tr th:only-of-type {\n",
              "        vertical-align: middle;\n",
              "    }\n",
              "\n",
              "    .dataframe tbody tr th {\n",
              "        vertical-align: top;\n",
              "    }\n",
              "\n",
              "    .dataframe thead th {\n",
              "        text-align: right;\n",
              "    }\n",
              "</style>\n",
              "<table border=\"1\" class=\"dataframe\">\n",
              "  <thead>\n",
              "    <tr style=\"text-align: right;\">\n",
              "      <th></th>\n",
              "      <th>ID</th>\n",
              "      <th>Name</th>\n",
              "      <th>Sex</th>\n",
              "      <th>Age</th>\n",
              "      <th>Height</th>\n",
              "      <th>Weight</th>\n",
              "      <th>Team</th>\n",
              "      <th>NOC</th>\n",
              "      <th>Games</th>\n",
              "      <th>Year</th>\n",
              "      <th>Season</th>\n",
              "      <th>City</th>\n",
              "      <th>Sport</th>\n",
              "      <th>Event</th>\n",
              "      <th>Medal</th>\n",
              "    </tr>\n",
              "  </thead>\n",
              "  <tbody>\n",
              "    <tr>\n",
              "      <th>0</th>\n",
              "      <td>1</td>\n",
              "      <td>A Dijiang</td>\n",
              "      <td>M</td>\n",
              "      <td>24.0</td>\n",
              "      <td>180.0</td>\n",
              "      <td>80.0</td>\n",
              "      <td>China</td>\n",
              "      <td>CHN</td>\n",
              "      <td>1992 Summer</td>\n",
              "      <td>1992</td>\n",
              "      <td>Summer</td>\n",
              "      <td>Barcelona</td>\n",
              "      <td>Basketball</td>\n",
              "      <td>Basketball Men's Basketball</td>\n",
              "      <td>NaN</td>\n",
              "    </tr>\n",
              "    <tr>\n",
              "      <th>1</th>\n",
              "      <td>2</td>\n",
              "      <td>A Lamusi</td>\n",
              "      <td>M</td>\n",
              "      <td>23.0</td>\n",
              "      <td>170.0</td>\n",
              "      <td>60.0</td>\n",
              "      <td>China</td>\n",
              "      <td>CHN</td>\n",
              "      <td>2012 Summer</td>\n",
              "      <td>2012</td>\n",
              "      <td>Summer</td>\n",
              "      <td>London</td>\n",
              "      <td>Judo</td>\n",
              "      <td>Judo Men's Extra-Lightweight</td>\n",
              "      <td>NaN</td>\n",
              "    </tr>\n",
              "    <tr>\n",
              "      <th>2</th>\n",
              "      <td>3</td>\n",
              "      <td>Gunnar Nielsen Aaby</td>\n",
              "      <td>M</td>\n",
              "      <td>24.0</td>\n",
              "      <td>NaN</td>\n",
              "      <td>NaN</td>\n",
              "      <td>Denmark</td>\n",
              "      <td>DEN</td>\n",
              "      <td>1920 Summer</td>\n",
              "      <td>1920</td>\n",
              "      <td>Summer</td>\n",
              "      <td>Antwerpen</td>\n",
              "      <td>Football</td>\n",
              "      <td>Football Men's Football</td>\n",
              "      <td>NaN</td>\n",
              "    </tr>\n",
              "    <tr>\n",
              "      <th>3</th>\n",
              "      <td>4</td>\n",
              "      <td>Edgar Lindenau Aabye</td>\n",
              "      <td>M</td>\n",
              "      <td>34.0</td>\n",
              "      <td>NaN</td>\n",
              "      <td>NaN</td>\n",
              "      <td>Denmark/Sweden</td>\n",
              "      <td>DEN</td>\n",
              "      <td>1900 Summer</td>\n",
              "      <td>1900</td>\n",
              "      <td>Summer</td>\n",
              "      <td>Paris</td>\n",
              "      <td>Tug-Of-War</td>\n",
              "      <td>Tug-Of-War Men's Tug-Of-War</td>\n",
              "      <td>Gold</td>\n",
              "    </tr>\n",
              "    <tr>\n",
              "      <th>4</th>\n",
              "      <td>5</td>\n",
              "      <td>Christine Jacoba Aaftink</td>\n",
              "      <td>F</td>\n",
              "      <td>21.0</td>\n",
              "      <td>185.0</td>\n",
              "      <td>82.0</td>\n",
              "      <td>Netherlands</td>\n",
              "      <td>NED</td>\n",
              "      <td>1988 Winter</td>\n",
              "      <td>1988</td>\n",
              "      <td>Winter</td>\n",
              "      <td>Calgary</td>\n",
              "      <td>Speed Skating</td>\n",
              "      <td>Speed Skating Women's 500 metres</td>\n",
              "      <td>NaN</td>\n",
              "    </tr>\n",
              "  </tbody>\n",
              "</table>\n",
              "</div>"
            ],
            "text/plain": [
              "   ID                      Name Sex   Age  Height  Weight            Team  \\\n",
              "0   1                 A Dijiang   M  24.0   180.0    80.0           China   \n",
              "1   2                  A Lamusi   M  23.0   170.0    60.0           China   \n",
              "2   3       Gunnar Nielsen Aaby   M  24.0     NaN     NaN         Denmark   \n",
              "3   4      Edgar Lindenau Aabye   M  34.0     NaN     NaN  Denmark/Sweden   \n",
              "4   5  Christine Jacoba Aaftink   F  21.0   185.0    82.0     Netherlands   \n",
              "\n",
              "   NOC        Games  Year  Season       City          Sport  \\\n",
              "0  CHN  1992 Summer  1992  Summer  Barcelona     Basketball   \n",
              "1  CHN  2012 Summer  2012  Summer     London           Judo   \n",
              "2  DEN  1920 Summer  1920  Summer  Antwerpen       Football   \n",
              "3  DEN  1900 Summer  1900  Summer      Paris     Tug-Of-War   \n",
              "4  NED  1988 Winter  1988  Winter    Calgary  Speed Skating   \n",
              "\n",
              "                              Event Medal  \n",
              "0       Basketball Men's Basketball   NaN  \n",
              "1      Judo Men's Extra-Lightweight   NaN  \n",
              "2           Football Men's Football   NaN  \n",
              "3       Tug-Of-War Men's Tug-Of-War  Gold  \n",
              "4  Speed Skating Women's 500 metres   NaN  "
            ]
          },
          "metadata": {
            "tags": []
          },
          "execution_count": 4
        }
      ]
    },
    {
      "metadata": {
        "id": "0ZJ1eo4EvfjM",
        "colab_type": "code",
        "colab": {
          "base_uri": "https://localhost:8080/",
          "height": 204
        },
        "outputId": "104a48b1-1d37-42a2-ecfd-896ba0b0d976"
      },
      "cell_type": "code",
      "source": [
        "regions.head(5)"
      ],
      "execution_count": 5,
      "outputs": [
        {
          "output_type": "execute_result",
          "data": {
            "text/html": [
              "<div>\n",
              "<style scoped>\n",
              "    .dataframe tbody tr th:only-of-type {\n",
              "        vertical-align: middle;\n",
              "    }\n",
              "\n",
              "    .dataframe tbody tr th {\n",
              "        vertical-align: top;\n",
              "    }\n",
              "\n",
              "    .dataframe thead th {\n",
              "        text-align: right;\n",
              "    }\n",
              "</style>\n",
              "<table border=\"1\" class=\"dataframe\">\n",
              "  <thead>\n",
              "    <tr style=\"text-align: right;\">\n",
              "      <th></th>\n",
              "      <th>NOC</th>\n",
              "      <th>region</th>\n",
              "      <th>notes</th>\n",
              "    </tr>\n",
              "  </thead>\n",
              "  <tbody>\n",
              "    <tr>\n",
              "      <th>0</th>\n",
              "      <td>AFG</td>\n",
              "      <td>Afghanistan</td>\n",
              "      <td>NaN</td>\n",
              "    </tr>\n",
              "    <tr>\n",
              "      <th>1</th>\n",
              "      <td>AHO</td>\n",
              "      <td>Curacao</td>\n",
              "      <td>Netherlands Antilles</td>\n",
              "    </tr>\n",
              "    <tr>\n",
              "      <th>2</th>\n",
              "      <td>ALB</td>\n",
              "      <td>Albania</td>\n",
              "      <td>NaN</td>\n",
              "    </tr>\n",
              "    <tr>\n",
              "      <th>3</th>\n",
              "      <td>ALG</td>\n",
              "      <td>Algeria</td>\n",
              "      <td>NaN</td>\n",
              "    </tr>\n",
              "    <tr>\n",
              "      <th>4</th>\n",
              "      <td>AND</td>\n",
              "      <td>Andorra</td>\n",
              "      <td>NaN</td>\n",
              "    </tr>\n",
              "  </tbody>\n",
              "</table>\n",
              "</div>"
            ],
            "text/plain": [
              "   NOC       region                 notes\n",
              "0  AFG  Afghanistan                   NaN\n",
              "1  AHO      Curacao  Netherlands Antilles\n",
              "2  ALB      Albania                   NaN\n",
              "3  ALG      Algeria                   NaN\n",
              "4  AND      Andorra                   NaN"
            ]
          },
          "metadata": {
            "tags": []
          },
          "execution_count": 5
        }
      ]
    },
    {
      "metadata": {
        "id": "ifUNFj1ZvfjS",
        "colab_type": "code",
        "colab": {}
      },
      "cell_type": "code",
      "source": [
        "merged = pd.merge(data, regions, on='NOC', how='left')"
      ],
      "execution_count": 0,
      "outputs": []
    },
    {
      "metadata": {
        "id": "P8k8wsiUQkY0",
        "colab_type": "text"
      },
      "cell_type": "markdown",
      "source": [
        "merge data"
      ]
    },
    {
      "metadata": {
        "id": "Ji_3yWYdvfjU",
        "colab_type": "code",
        "colab": {
          "base_uri": "https://localhost:8080/",
          "height": 391
        },
        "outputId": "ec6b9b7c-261c-4efa-b2ad-ec7661c80308"
      },
      "cell_type": "code",
      "source": [
        "merged.head()"
      ],
      "execution_count": 7,
      "outputs": [
        {
          "output_type": "execute_result",
          "data": {
            "text/html": [
              "<div>\n",
              "<style scoped>\n",
              "    .dataframe tbody tr th:only-of-type {\n",
              "        vertical-align: middle;\n",
              "    }\n",
              "\n",
              "    .dataframe tbody tr th {\n",
              "        vertical-align: top;\n",
              "    }\n",
              "\n",
              "    .dataframe thead th {\n",
              "        text-align: right;\n",
              "    }\n",
              "</style>\n",
              "<table border=\"1\" class=\"dataframe\">\n",
              "  <thead>\n",
              "    <tr style=\"text-align: right;\">\n",
              "      <th></th>\n",
              "      <th>ID</th>\n",
              "      <th>Name</th>\n",
              "      <th>Sex</th>\n",
              "      <th>Age</th>\n",
              "      <th>Height</th>\n",
              "      <th>Weight</th>\n",
              "      <th>Team</th>\n",
              "      <th>NOC</th>\n",
              "      <th>Games</th>\n",
              "      <th>Year</th>\n",
              "      <th>Season</th>\n",
              "      <th>City</th>\n",
              "      <th>Sport</th>\n",
              "      <th>Event</th>\n",
              "      <th>Medal</th>\n",
              "      <th>region</th>\n",
              "      <th>notes</th>\n",
              "    </tr>\n",
              "  </thead>\n",
              "  <tbody>\n",
              "    <tr>\n",
              "      <th>0</th>\n",
              "      <td>1</td>\n",
              "      <td>A Dijiang</td>\n",
              "      <td>M</td>\n",
              "      <td>24.0</td>\n",
              "      <td>180.0</td>\n",
              "      <td>80.0</td>\n",
              "      <td>China</td>\n",
              "      <td>CHN</td>\n",
              "      <td>1992 Summer</td>\n",
              "      <td>1992</td>\n",
              "      <td>Summer</td>\n",
              "      <td>Barcelona</td>\n",
              "      <td>Basketball</td>\n",
              "      <td>Basketball Men's Basketball</td>\n",
              "      <td>NaN</td>\n",
              "      <td>China</td>\n",
              "      <td>NaN</td>\n",
              "    </tr>\n",
              "    <tr>\n",
              "      <th>1</th>\n",
              "      <td>2</td>\n",
              "      <td>A Lamusi</td>\n",
              "      <td>M</td>\n",
              "      <td>23.0</td>\n",
              "      <td>170.0</td>\n",
              "      <td>60.0</td>\n",
              "      <td>China</td>\n",
              "      <td>CHN</td>\n",
              "      <td>2012 Summer</td>\n",
              "      <td>2012</td>\n",
              "      <td>Summer</td>\n",
              "      <td>London</td>\n",
              "      <td>Judo</td>\n",
              "      <td>Judo Men's Extra-Lightweight</td>\n",
              "      <td>NaN</td>\n",
              "      <td>China</td>\n",
              "      <td>NaN</td>\n",
              "    </tr>\n",
              "    <tr>\n",
              "      <th>2</th>\n",
              "      <td>3</td>\n",
              "      <td>Gunnar Nielsen Aaby</td>\n",
              "      <td>M</td>\n",
              "      <td>24.0</td>\n",
              "      <td>NaN</td>\n",
              "      <td>NaN</td>\n",
              "      <td>Denmark</td>\n",
              "      <td>DEN</td>\n",
              "      <td>1920 Summer</td>\n",
              "      <td>1920</td>\n",
              "      <td>Summer</td>\n",
              "      <td>Antwerpen</td>\n",
              "      <td>Football</td>\n",
              "      <td>Football Men's Football</td>\n",
              "      <td>NaN</td>\n",
              "      <td>Denmark</td>\n",
              "      <td>NaN</td>\n",
              "    </tr>\n",
              "    <tr>\n",
              "      <th>3</th>\n",
              "      <td>4</td>\n",
              "      <td>Edgar Lindenau Aabye</td>\n",
              "      <td>M</td>\n",
              "      <td>34.0</td>\n",
              "      <td>NaN</td>\n",
              "      <td>NaN</td>\n",
              "      <td>Denmark/Sweden</td>\n",
              "      <td>DEN</td>\n",
              "      <td>1900 Summer</td>\n",
              "      <td>1900</td>\n",
              "      <td>Summer</td>\n",
              "      <td>Paris</td>\n",
              "      <td>Tug-Of-War</td>\n",
              "      <td>Tug-Of-War Men's Tug-Of-War</td>\n",
              "      <td>Gold</td>\n",
              "      <td>Denmark</td>\n",
              "      <td>NaN</td>\n",
              "    </tr>\n",
              "    <tr>\n",
              "      <th>4</th>\n",
              "      <td>5</td>\n",
              "      <td>Christine Jacoba Aaftink</td>\n",
              "      <td>F</td>\n",
              "      <td>21.0</td>\n",
              "      <td>185.0</td>\n",
              "      <td>82.0</td>\n",
              "      <td>Netherlands</td>\n",
              "      <td>NED</td>\n",
              "      <td>1988 Winter</td>\n",
              "      <td>1988</td>\n",
              "      <td>Winter</td>\n",
              "      <td>Calgary</td>\n",
              "      <td>Speed Skating</td>\n",
              "      <td>Speed Skating Women's 500 metres</td>\n",
              "      <td>NaN</td>\n",
              "      <td>Netherlands</td>\n",
              "      <td>NaN</td>\n",
              "    </tr>\n",
              "  </tbody>\n",
              "</table>\n",
              "</div>"
            ],
            "text/plain": [
              "   ID                      Name Sex   Age  Height  Weight            Team  \\\n",
              "0   1                 A Dijiang   M  24.0   180.0    80.0           China   \n",
              "1   2                  A Lamusi   M  23.0   170.0    60.0           China   \n",
              "2   3       Gunnar Nielsen Aaby   M  24.0     NaN     NaN         Denmark   \n",
              "3   4      Edgar Lindenau Aabye   M  34.0     NaN     NaN  Denmark/Sweden   \n",
              "4   5  Christine Jacoba Aaftink   F  21.0   185.0    82.0     Netherlands   \n",
              "\n",
              "   NOC        Games  Year  Season       City          Sport  \\\n",
              "0  CHN  1992 Summer  1992  Summer  Barcelona     Basketball   \n",
              "1  CHN  2012 Summer  2012  Summer     London           Judo   \n",
              "2  DEN  1920 Summer  1920  Summer  Antwerpen       Football   \n",
              "3  DEN  1900 Summer  1900  Summer      Paris     Tug-Of-War   \n",
              "4  NED  1988 Winter  1988  Winter    Calgary  Speed Skating   \n",
              "\n",
              "                              Event Medal       region notes  \n",
              "0       Basketball Men's Basketball   NaN        China   NaN  \n",
              "1      Judo Men's Extra-Lightweight   NaN        China   NaN  \n",
              "2           Football Men's Football   NaN      Denmark   NaN  \n",
              "3       Tug-Of-War Men's Tug-Of-War  Gold      Denmark   NaN  \n",
              "4  Speed Skating Women's 500 metres   NaN  Netherlands   NaN  "
            ]
          },
          "metadata": {
            "tags": []
          },
          "execution_count": 7
        }
      ]
    },
    {
      "metadata": {
        "id": "-oAINUE5vfjX",
        "colab_type": "code",
        "colab": {}
      },
      "cell_type": "code",
      "source": [
        "merged=merged[np.isfinite(merged['Age'])]"
      ],
      "execution_count": 0,
      "outputs": []
    },
    {
      "metadata": {
        "id": "eLnKSO5JQwdF",
        "colab_type": "text"
      },
      "cell_type": "markdown",
      "source": [
        "check for null"
      ]
    },
    {
      "metadata": {
        "id": "CX5nEReivfja",
        "colab_type": "code",
        "colab": {
          "base_uri": "https://localhost:8080/",
          "height": 323
        },
        "outputId": "9656cb6c-65b0-44b1-a704-a098258e1c91"
      },
      "cell_type": "code",
      "source": [
        "merged.isnull().any()"
      ],
      "execution_count": 9,
      "outputs": [
        {
          "output_type": "execute_result",
          "data": {
            "text/plain": [
              "ID        False\n",
              "Name      False\n",
              "Sex       False\n",
              "Age       False\n",
              "Height     True\n",
              "Weight     True\n",
              "Team      False\n",
              "NOC       False\n",
              "Games     False\n",
              "Year      False\n",
              "Season    False\n",
              "City      False\n",
              "Sport     False\n",
              "Event     False\n",
              "Medal      True\n",
              "region     True\n",
              "notes      True\n",
              "dtype: bool"
            ]
          },
          "metadata": {
            "tags": []
          },
          "execution_count": 9
        }
      ]
    },
    {
      "metadata": {
        "id": "Rbu3aTtHS9BJ",
        "colab_type": "text"
      },
      "cell_type": "markdown",
      "source": [
        "# Investigating the comparison between Age and Medals in the Olympics"
      ]
    },
    {
      "metadata": {
        "id": "4p0RLO37Qx6E",
        "colab_type": "text"
      },
      "cell_type": "markdown",
      "source": [
        "This graph plots the age distribution for medalling in the olympics"
      ]
    },
    {
      "metadata": {
        "id": "iWgYs-6bvfjd",
        "colab_type": "code",
        "colab": {
          "base_uri": "https://localhost:8080/",
          "height": 674
        },
        "outputId": "064f4f2d-ccfc-45e1-e7f3-624f7050eaa6"
      },
      "cell_type": "code",
      "source": [
        "plt.figure(figsize=(40,10))\n",
        "plt.tight_layout()\n",
        "ax=sns.countplot(x='Age',hue='Medal',data=merged)"
      ],
      "execution_count": 10,
      "outputs": [
        {
          "output_type": "display_data",
          "data": {
            "image/png": "[encoded data removed]",
            "text/plain": [
              "<matplotlib.figure.Figure at 0x7f79d424f518>"
            ]
          },
          "metadata": {
            "tags": []
          }
        }
      ]
    },
    {
      "metadata": {
        "id": "5-_3ap94Q3vz",
        "colab_type": "text"
      },
      "cell_type": "markdown",
      "source": [
        "I'm looking for a similar sample size to compare old and young."
      ]
    },
    {
      "metadata": {
        "id": "XeowE5vtvfji",
        "colab_type": "code",
        "colab": {
          "base_uri": "https://localhost:8080/",
          "height": 34
        },
        "outputId": "c55495c2-ae68-464f-d793-ada154ab9c4b"
      },
      "cell_type": "code",
      "source": [
        "merged['ID'][merged['Age']>45].count()"
      ],
      "execution_count": 11,
      "outputs": [
        {
          "output_type": "execute_result",
          "data": {
            "text/plain": [
              "3822"
            ]
          },
          "metadata": {
            "tags": []
          },
          "execution_count": 11
        }
      ]
    },
    {
      "metadata": {
        "id": "7qr33tElvfjl",
        "colab_type": "code",
        "colab": {
          "base_uri": "https://localhost:8080/",
          "height": 34
        },
        "outputId": "fef5dd01-0736-4d3a-a6e7-0bc3a17b864b"
      },
      "cell_type": "code",
      "source": [
        "merged['ID'][merged['Age']<16].count()"
      ],
      "execution_count": 12,
      "outputs": [
        {
          "output_type": "execute_result",
          "data": {
            "text/plain": [
              "3280"
            ]
          },
          "metadata": {
            "tags": []
          },
          "execution_count": 12
        }
      ]
    },
    {
      "metadata": {
        "id": "7uJZroy2Q8Tf",
        "colab_type": "text"
      },
      "cell_type": "markdown",
      "source": [
        "created two separate datasets that only have ages above 45 and ages below 16"
      ]
    },
    {
      "metadata": {
        "id": "Y7OB0JYwvfjr",
        "colab_type": "code",
        "colab": {}
      },
      "cell_type": "code",
      "source": [
        "oldSports=merged['Sport'][merged['Age']>45]\n",
        "youngSports=merged['Sport'][merged['Age']<16]"
      ],
      "execution_count": 0,
      "outputs": []
    },
    {
      "metadata": {
        "id": "5pfgdkY3Q_W5",
        "colab_type": "text"
      },
      "cell_type": "markdown",
      "source": [
        "plots what competitions have the most placements for being above the age of 45"
      ]
    },
    {
      "metadata": {
        "id": "oHYpr42ovfjt",
        "colab_type": "code",
        "colab": {
          "base_uri": "https://localhost:8080/",
          "height": 708
        },
        "outputId": "646e66ac-c836-4719-ff38-5202a550be0d"
      },
      "cell_type": "code",
      "source": [
        "plt.figure(figsize=(20,10))\n",
        "plt.tight_layout()\n",
        "plt.title('Top 5 Olympic Medal Placements over the age of 45')\n",
        "sns.countplot(oldSports,order=oldSports.value_counts().iloc[:5].index)"
      ],
      "execution_count": 14,
      "outputs": [
        {
          "output_type": "execute_result",
          "data": {
            "text/plain": [
              "<matplotlib.axes._subplots.AxesSubplot at 0x7f79d4106be0>"
            ]
          },
          "metadata": {
            "tags": []
          },
          "execution_count": 14
        },
        {
          "output_type": "display_data",
          "data": {
            "image/png": "[encoded data removed]",
            "text/plain": [
              "<matplotlib.figure.Figure at 0x7f79d421a6d8>"
            ]
          },
          "metadata": {
            "tags": []
          }
        }
      ]
    },
    {
      "metadata": {
        "id": "hRq_0PgvRElZ",
        "colab_type": "text"
      },
      "cell_type": "markdown",
      "source": [
        "plots what competitions have the most medals with people under the age of 16 "
      ]
    },
    {
      "metadata": {
        "id": "Bu7A8KZ_vfjx",
        "colab_type": "code",
        "colab": {
          "base_uri": "https://localhost:8080/",
          "height": 708
        },
        "outputId": "68ffe4a8-2a93-47ea-d965-81e1a7d7b454"
      },
      "cell_type": "code",
      "source": [
        "plt.figure(figsize=(20,10))\n",
        "plt.tight_layout()\n",
        "plt.title('Top 5 Olympic Medal Placements under the age of 16')\n",
        "sns.countplot(youngSports,order=youngSports.value_counts().iloc[:5].index)"
      ],
      "execution_count": 15,
      "outputs": [
        {
          "output_type": "execute_result",
          "data": {
            "text/plain": [
              "<matplotlib.axes._subplots.AxesSubplot at 0x7f79d3f9e2e8>"
            ]
          },
          "metadata": {
            "tags": []
          },
          "execution_count": 15
        },
        {
          "output_type": "display_data",
          "data": {
            "image/png": "[encoded data removed]",
            "text/plain": [
              "<matplotlib.figure.Figure at 0x7f79d3faae80>"
            ]
          },
          "metadata": {
            "tags": []
          }
        }
      ]
    },
    {
      "metadata": {
        "id": "vUGRsn5HSzMf",
        "colab_type": "text"
      },
      "cell_type": "markdown",
      "source": [
        "# Swimming (1st most medals for olympians under 14 )"
      ]
    },
    {
      "metadata": {
        "id": "NAklOo6lRTTF",
        "colab_type": "text"
      },
      "cell_type": "markdown",
      "source": [
        "Let's investigate the swimming medalling "
      ]
    },
    {
      "metadata": {
        "id": "Ks8yAFWmvfj0",
        "colab_type": "code",
        "colab": {}
      },
      "cell_type": "code",
      "source": [
        "swimSport=merged[merged['Sport']=='Swimming']"
      ],
      "execution_count": 0,
      "outputs": []
    },
    {
      "metadata": {
        "id": "8CGsATEYvfj2",
        "colab_type": "code",
        "colab": {
          "base_uri": "https://localhost:8080/",
          "height": 479
        },
        "outputId": "f5e1b2ef-5eaa-476d-a640-48b304b43535"
      },
      "cell_type": "code",
      "source": [
        "swimSport.head()"
      ],
      "execution_count": 17,
      "outputs": [
        {
          "output_type": "execute_result",
          "data": {
            "text/html": [
              "<div>\n",
              "<style scoped>\n",
              "    .dataframe tbody tr th:only-of-type {\n",
              "        vertical-align: middle;\n",
              "    }\n",
              "\n",
              "    .dataframe tbody tr th {\n",
              "        vertical-align: top;\n",
              "    }\n",
              "\n",
              "    .dataframe thead th {\n",
              "        text-align: right;\n",
              "    }\n",
              "</style>\n",
              "<table border=\"1\" class=\"dataframe\">\n",
              "  <thead>\n",
              "    <tr style=\"text-align: right;\">\n",
              "      <th></th>\n",
              "      <th>ID</th>\n",
              "      <th>Name</th>\n",
              "      <th>Sex</th>\n",
              "      <th>Age</th>\n",
              "      <th>Height</th>\n",
              "      <th>Weight</th>\n",
              "      <th>Team</th>\n",
              "      <th>NOC</th>\n",
              "      <th>Games</th>\n",
              "      <th>Year</th>\n",
              "      <th>Season</th>\n",
              "      <th>City</th>\n",
              "      <th>Sport</th>\n",
              "      <th>Event</th>\n",
              "      <th>Medal</th>\n",
              "      <th>region</th>\n",
              "      <th>notes</th>\n",
              "    </tr>\n",
              "  </thead>\n",
              "  <tbody>\n",
              "    <tr>\n",
              "      <th>29</th>\n",
              "      <td>10</td>\n",
              "      <td>Einar Ferdinand \"Einari\" Aalto</td>\n",
              "      <td>M</td>\n",
              "      <td>26.0</td>\n",
              "      <td>NaN</td>\n",
              "      <td>NaN</td>\n",
              "      <td>Finland</td>\n",
              "      <td>FIN</td>\n",
              "      <td>1952 Summer</td>\n",
              "      <td>1952</td>\n",
              "      <td>Summer</td>\n",
              "      <td>Helsinki</td>\n",
              "      <td>Swimming</td>\n",
              "      <td>Swimming Men's 400 metres Freestyle</td>\n",
              "      <td>NaN</td>\n",
              "      <td>Finland</td>\n",
              "      <td>NaN</td>\n",
              "    </tr>\n",
              "    <tr>\n",
              "      <th>35</th>\n",
              "      <td>15</td>\n",
              "      <td>Arvo Ossian Aaltonen</td>\n",
              "      <td>M</td>\n",
              "      <td>22.0</td>\n",
              "      <td>NaN</td>\n",
              "      <td>NaN</td>\n",
              "      <td>Finland</td>\n",
              "      <td>FIN</td>\n",
              "      <td>1912 Summer</td>\n",
              "      <td>1912</td>\n",
              "      <td>Summer</td>\n",
              "      <td>Stockholm</td>\n",
              "      <td>Swimming</td>\n",
              "      <td>Swimming Men's 200 metres Breaststroke</td>\n",
              "      <td>NaN</td>\n",
              "      <td>Finland</td>\n",
              "      <td>NaN</td>\n",
              "    </tr>\n",
              "    <tr>\n",
              "      <th>36</th>\n",
              "      <td>15</td>\n",
              "      <td>Arvo Ossian Aaltonen</td>\n",
              "      <td>M</td>\n",
              "      <td>22.0</td>\n",
              "      <td>NaN</td>\n",
              "      <td>NaN</td>\n",
              "      <td>Finland</td>\n",
              "      <td>FIN</td>\n",
              "      <td>1912 Summer</td>\n",
              "      <td>1912</td>\n",
              "      <td>Summer</td>\n",
              "      <td>Stockholm</td>\n",
              "      <td>Swimming</td>\n",
              "      <td>Swimming Men's 400 metres Breaststroke</td>\n",
              "      <td>NaN</td>\n",
              "      <td>Finland</td>\n",
              "      <td>NaN</td>\n",
              "    </tr>\n",
              "    <tr>\n",
              "      <th>37</th>\n",
              "      <td>15</td>\n",
              "      <td>Arvo Ossian Aaltonen</td>\n",
              "      <td>M</td>\n",
              "      <td>30.0</td>\n",
              "      <td>NaN</td>\n",
              "      <td>NaN</td>\n",
              "      <td>Finland</td>\n",
              "      <td>FIN</td>\n",
              "      <td>1920 Summer</td>\n",
              "      <td>1920</td>\n",
              "      <td>Summer</td>\n",
              "      <td>Antwerpen</td>\n",
              "      <td>Swimming</td>\n",
              "      <td>Swimming Men's 200 metres Breaststroke</td>\n",
              "      <td>Bronze</td>\n",
              "      <td>Finland</td>\n",
              "      <td>NaN</td>\n",
              "    </tr>\n",
              "    <tr>\n",
              "      <th>38</th>\n",
              "      <td>15</td>\n",
              "      <td>Arvo Ossian Aaltonen</td>\n",
              "      <td>M</td>\n",
              "      <td>30.0</td>\n",
              "      <td>NaN</td>\n",
              "      <td>NaN</td>\n",
              "      <td>Finland</td>\n",
              "      <td>FIN</td>\n",
              "      <td>1920 Summer</td>\n",
              "      <td>1920</td>\n",
              "      <td>Summer</td>\n",
              "      <td>Antwerpen</td>\n",
              "      <td>Swimming</td>\n",
              "      <td>Swimming Men's 400 metres Breaststroke</td>\n",
              "      <td>Bronze</td>\n",
              "      <td>Finland</td>\n",
              "      <td>NaN</td>\n",
              "    </tr>\n",
              "  </tbody>\n",
              "</table>\n",
              "</div>"
            ],
            "text/plain": [
              "    ID                            Name Sex   Age  Height  Weight     Team  \\\n",
              "29  10  Einar Ferdinand \"Einari\" Aalto   M  26.0     NaN     NaN  Finland   \n",
              "35  15            Arvo Ossian Aaltonen   M  22.0     NaN     NaN  Finland   \n",
              "36  15            Arvo Ossian Aaltonen   M  22.0     NaN     NaN  Finland   \n",
              "37  15            Arvo Ossian Aaltonen   M  30.0     NaN     NaN  Finland   \n",
              "38  15            Arvo Ossian Aaltonen   M  30.0     NaN     NaN  Finland   \n",
              "\n",
              "    NOC        Games  Year  Season       City     Sport  \\\n",
              "29  FIN  1952 Summer  1952  Summer   Helsinki  Swimming   \n",
              "35  FIN  1912 Summer  1912  Summer  Stockholm  Swimming   \n",
              "36  FIN  1912 Summer  1912  Summer  Stockholm  Swimming   \n",
              "37  FIN  1920 Summer  1920  Summer  Antwerpen  Swimming   \n",
              "38  FIN  1920 Summer  1920  Summer  Antwerpen  Swimming   \n",
              "\n",
              "                                     Event   Medal   region notes  \n",
              "29     Swimming Men's 400 metres Freestyle     NaN  Finland   NaN  \n",
              "35  Swimming Men's 200 metres Breaststroke     NaN  Finland   NaN  \n",
              "36  Swimming Men's 400 metres Breaststroke     NaN  Finland   NaN  \n",
              "37  Swimming Men's 200 metres Breaststroke  Bronze  Finland   NaN  \n",
              "38  Swimming Men's 400 metres Breaststroke  Bronze  Finland   NaN  "
            ]
          },
          "metadata": {
            "tags": []
          },
          "execution_count": 17
        }
      ]
    },
    {
      "metadata": {
        "id": "RSZSp85VRWd-",
        "colab_type": "text"
      },
      "cell_type": "markdown",
      "source": [
        "let's get similar sample sizes for \"old\" swimmers and \"young \" swimmers"
      ]
    },
    {
      "metadata": {
        "id": "KVYVdEVavfj5",
        "colab_type": "code",
        "colab": {
          "base_uri": "https://localhost:8080/",
          "height": 54
        },
        "outputId": "35d57d75-49db-443d-fbcb-c0d8766a0593"
      },
      "cell_type": "code",
      "source": [
        "swimSport['ID'][swimSport['Age']>32].count()"
      ],
      "execution_count": 18,
      "outputs": [
        {
          "output_type": "execute_result",
          "data": {
            "text/plain": [
              "115"
            ]
          },
          "metadata": {
            "tags": []
          },
          "execution_count": 18
        }
      ]
    },
    {
      "metadata": {
        "id": "iVO7utyhvfj7",
        "colab_type": "code",
        "colab": {
          "base_uri": "https://localhost:8080/",
          "height": 54
        },
        "outputId": "bddaaf9e-bea1-4eea-f53d-fe4933bccabd"
      },
      "cell_type": "code",
      "source": [
        "swimSport['ID'][swimSport['Age']<14].count()"
      ],
      "execution_count": 19,
      "outputs": [
        {
          "output_type": "execute_result",
          "data": {
            "text/plain": [
              "135"
            ]
          },
          "metadata": {
            "tags": []
          },
          "execution_count": 19
        }
      ]
    },
    {
      "metadata": {
        "id": "pclNPPetvfkA",
        "colab_type": "code",
        "colab": {}
      },
      "cell_type": "code",
      "source": [
        "oldSwimSport=swimSport['Event'][swimSport['Age']>32]\n",
        "youngSwimSport=swimSport['Event'][swimSport['Age']<14]"
      ],
      "execution_count": 0,
      "outputs": []
    },
    {
      "metadata": {
        "id": "ohUbfoemvfkC",
        "colab_type": "code",
        "colab": {
          "base_uri": "https://localhost:8080/",
          "height": 708
        },
        "outputId": "24c85566-9fbe-41ea-bca8-6054682791cc"
      },
      "cell_type": "code",
      "source": [
        "plt.figure(figsize=(20,10))\n",
        "plt.tight_layout()\n",
        "plt.title('Top 5 Swimming Events over the age of 32')\n",
        "sns.countplot(oldSwimSport,order=oldSwimSport.value_counts().iloc[:5].index)"
      ],
      "execution_count": 21,
      "outputs": [
        {
          "output_type": "execute_result",
          "data": {
            "text/plain": [
              "<matplotlib.axes._subplots.AxesSubplot at 0x7f79d1617470>"
            ]
          },
          "metadata": {
            "tags": []
          },
          "execution_count": 21
        },
        {
          "output_type": "display_data",
          "data": {
            "image/png": "[encoded data removed]",
            "text/plain": [
              "<matplotlib.figure.Figure at 0x7f79d1662358>"
            ]
          },
          "metadata": {
            "tags": []
          }
        }
      ]
    },
    {
      "metadata": {
        "id": "tneJ5AejRhJZ",
        "colab_type": "text"
      },
      "cell_type": "markdown",
      "source": [
        "\"Old\" swimmers are medalling in shorter events such as the 50 metres freestyle or 100 metres butterfly. Maybe the older swimmers have less endurance and can't swim at a fast pace for a longer period of time. "
      ]
    },
    {
      "metadata": {
        "id": "a0t_akIivfkF",
        "colab_type": "code",
        "colab": {
          "base_uri": "https://localhost:8080/",
          "height": 708
        },
        "outputId": "5f929505-7c66-4025-85f3-0a93445925aa"
      },
      "cell_type": "code",
      "source": [
        "plt.figure(figsize=(25,10))\n",
        "plt.tight_layout()\n",
        "plt.title('Top 5 Swimming Events under the age of 14')\n",
        "sns.countplot(youngSwimSport,order=youngSwimSport.value_counts().iloc[:5].index)"
      ],
      "execution_count": 22,
      "outputs": [
        {
          "output_type": "execute_result",
          "data": {
            "text/plain": [
              "<matplotlib.axes._subplots.AxesSubplot at 0x7f79d16078d0>"
            ]
          },
          "metadata": {
            "tags": []
          },
          "execution_count": 22
        },
        {
          "output_type": "display_data",
          "data": {
            "image/png": "[encoded data removed]",
            "text/plain": [
              "<matplotlib.figure.Figure at 0x7f79d15c0e80>"
            ]
          },
          "metadata": {
            "tags": []
          }
        }
      ]
    },
    {
      "metadata": {
        "id": "KEN_CO5NR3cx",
        "colab_type": "text"
      },
      "cell_type": "markdown",
      "source": [
        "Most of the swimming events that U14 medal in are usually women events. A possible reason for this is that women mature faster and therefore the athletic ability difference between ages is less relevant. "
      ]
    },
    {
      "metadata": {
        "id": "4NoFwlYQSoUx",
        "colab_type": "text"
      },
      "cell_type": "markdown",
      "source": [
        "# Shooting (2nd most medals for olympians over 45)"
      ]
    },
    {
      "metadata": {
        "id": "afD4oUJuvfkI",
        "colab_type": "code",
        "colab": {
          "base_uri": "https://localhost:8080/",
          "height": 306
        },
        "outputId": "e1f58f32-5228-44c5-b6d7-eeb70e69c664"
      },
      "cell_type": "code",
      "source": [
        "shootSport=merged[merged['Sport']=='Shooting']\n",
        "shootSport.head()"
      ],
      "execution_count": 23,
      "outputs": [
        {
          "output_type": "execute_result",
          "data": {
            "text/html": [
              "<div>\n",
              "<style scoped>\n",
              "    .dataframe tbody tr th:only-of-type {\n",
              "        vertical-align: middle;\n",
              "    }\n",
              "\n",
              "    .dataframe tbody tr th {\n",
              "        vertical-align: top;\n",
              "    }\n",
              "\n",
              "    .dataframe thead th {\n",
              "        text-align: right;\n",
              "    }\n",
              "</style>\n",
              "<table border=\"1\" class=\"dataframe\">\n",
              "  <thead>\n",
              "    <tr style=\"text-align: right;\">\n",
              "      <th></th>\n",
              "      <th>ID</th>\n",
              "      <th>Name</th>\n",
              "      <th>Sex</th>\n",
              "      <th>Age</th>\n",
              "      <th>Height</th>\n",
              "      <th>Weight</th>\n",
              "      <th>Team</th>\n",
              "      <th>NOC</th>\n",
              "      <th>Games</th>\n",
              "      <th>Year</th>\n",
              "      <th>Season</th>\n",
              "      <th>City</th>\n",
              "      <th>Sport</th>\n",
              "      <th>Event</th>\n",
              "      <th>Medal</th>\n",
              "      <th>region</th>\n",
              "      <th>notes</th>\n",
              "    </tr>\n",
              "  </thead>\n",
              "  <tbody>\n",
              "    <tr>\n",
              "      <th>124</th>\n",
              "      <td>45</td>\n",
              "      <td>Hakon Aasns</td>\n",
              "      <td>M</td>\n",
              "      <td>41.0</td>\n",
              "      <td>NaN</td>\n",
              "      <td>NaN</td>\n",
              "      <td>Norway</td>\n",
              "      <td>NOR</td>\n",
              "      <td>1936 Summer</td>\n",
              "      <td>1936</td>\n",
              "      <td>Summer</td>\n",
              "      <td>Berlin</td>\n",
              "      <td>Shooting</td>\n",
              "      <td>Shooting Men's Small-Bore Rifle, Prone, 50 metres</td>\n",
              "      <td>NaN</td>\n",
              "      <td>Norway</td>\n",
              "      <td>NaN</td>\n",
              "    </tr>\n",
              "    <tr>\n",
              "      <th>125</th>\n",
              "      <td>46</td>\n",
              "      <td>Hans Aasns</td>\n",
              "      <td>M</td>\n",
              "      <td>33.0</td>\n",
              "      <td>194.0</td>\n",
              "      <td>93.0</td>\n",
              "      <td>Norway</td>\n",
              "      <td>NOR</td>\n",
              "      <td>1936 Summer</td>\n",
              "      <td>1936</td>\n",
              "      <td>Summer</td>\n",
              "      <td>Berlin</td>\n",
              "      <td>Shooting</td>\n",
              "      <td>Shooting Men's Rapid-Fire Pistol, 25 metres</td>\n",
              "      <td>NaN</td>\n",
              "      <td>Norway</td>\n",
              "      <td>NaN</td>\n",
              "    </tr>\n",
              "    <tr>\n",
              "      <th>126</th>\n",
              "      <td>46</td>\n",
              "      <td>Hans Aasns</td>\n",
              "      <td>M</td>\n",
              "      <td>45.0</td>\n",
              "      <td>194.0</td>\n",
              "      <td>93.0</td>\n",
              "      <td>Norway</td>\n",
              "      <td>NOR</td>\n",
              "      <td>1948 Summer</td>\n",
              "      <td>1948</td>\n",
              "      <td>Summer</td>\n",
              "      <td>London</td>\n",
              "      <td>Shooting</td>\n",
              "      <td>Shooting Men's Rapid-Fire Pistol, 25 metres</td>\n",
              "      <td>NaN</td>\n",
              "      <td>Norway</td>\n",
              "      <td>NaN</td>\n",
              "    </tr>\n",
              "    <tr>\n",
              "      <th>127</th>\n",
              "      <td>46</td>\n",
              "      <td>Hans Aasns</td>\n",
              "      <td>M</td>\n",
              "      <td>49.0</td>\n",
              "      <td>194.0</td>\n",
              "      <td>93.0</td>\n",
              "      <td>Norway</td>\n",
              "      <td>NOR</td>\n",
              "      <td>1952 Summer</td>\n",
              "      <td>1952</td>\n",
              "      <td>Summer</td>\n",
              "      <td>Helsinki</td>\n",
              "      <td>Shooting</td>\n",
              "      <td>Shooting Men's Trap</td>\n",
              "      <td>NaN</td>\n",
              "      <td>Norway</td>\n",
              "      <td>NaN</td>\n",
              "    </tr>\n",
              "    <tr>\n",
              "      <th>128</th>\n",
              "      <td>46</td>\n",
              "      <td>Hans Aasns</td>\n",
              "      <td>M</td>\n",
              "      <td>53.0</td>\n",
              "      <td>194.0</td>\n",
              "      <td>93.0</td>\n",
              "      <td>Norway</td>\n",
              "      <td>NOR</td>\n",
              "      <td>1956 Summer</td>\n",
              "      <td>1956</td>\n",
              "      <td>Summer</td>\n",
              "      <td>Melbourne</td>\n",
              "      <td>Shooting</td>\n",
              "      <td>Shooting Men's Trap</td>\n",
              "      <td>NaN</td>\n",
              "      <td>Norway</td>\n",
              "      <td>NaN</td>\n",
              "    </tr>\n",
              "  </tbody>\n",
              "</table>\n",
              "</div>"
            ],
            "text/plain": [
              "     ID         Name Sex   Age  Height  Weight    Team  NOC        Games  \\\n",
              "124  45  Hakon Aasns   M  41.0     NaN     NaN  Norway  NOR  1936 Summer   \n",
              "125  46   Hans Aasns   M  33.0   194.0    93.0  Norway  NOR  1936 Summer   \n",
              "126  46   Hans Aasns   M  45.0   194.0    93.0  Norway  NOR  1948 Summer   \n",
              "127  46   Hans Aasns   M  49.0   194.0    93.0  Norway  NOR  1952 Summer   \n",
              "128  46   Hans Aasns   M  53.0   194.0    93.0  Norway  NOR  1956 Summer   \n",
              "\n",
              "     Year  Season       City     Sport  \\\n",
              "124  1936  Summer     Berlin  Shooting   \n",
              "125  1936  Summer     Berlin  Shooting   \n",
              "126  1948  Summer     London  Shooting   \n",
              "127  1952  Summer   Helsinki  Shooting   \n",
              "128  1956  Summer  Melbourne  Shooting   \n",
              "\n",
              "                                                 Event Medal  region notes  \n",
              "124  Shooting Men's Small-Bore Rifle, Prone, 50 metres   NaN  Norway   NaN  \n",
              "125        Shooting Men's Rapid-Fire Pistol, 25 metres   NaN  Norway   NaN  \n",
              "126        Shooting Men's Rapid-Fire Pistol, 25 metres   NaN  Norway   NaN  \n",
              "127                                Shooting Men's Trap   NaN  Norway   NaN  \n",
              "128                                Shooting Men's Trap   NaN  Norway   NaN  "
            ]
          },
          "metadata": {
            "tags": []
          },
          "execution_count": 23
        }
      ]
    },
    {
      "metadata": {
        "id": "gSPAChPLvfkL",
        "colab_type": "code",
        "colab": {
          "base_uri": "https://localhost:8080/",
          "height": 34
        },
        "outputId": "8da76bcb-b465-4cfc-a6e7-8a9dfcfd126c"
      },
      "cell_type": "code",
      "source": [
        "shootSport['ID'][shootSport['Age']>48].count()"
      ],
      "execution_count": 24,
      "outputs": [
        {
          "output_type": "execute_result",
          "data": {
            "text/plain": [
              "558"
            ]
          },
          "metadata": {
            "tags": []
          },
          "execution_count": 24
        }
      ]
    },
    {
      "metadata": {
        "id": "Y1bZwxHovfkO",
        "colab_type": "code",
        "colab": {
          "base_uri": "https://localhost:8080/",
          "height": 34
        },
        "outputId": "b18ead71-90fe-455e-d264-8c6632b15890"
      },
      "cell_type": "code",
      "source": [
        "shootSport['ID'][shootSport['Age']<22].count()"
      ],
      "execution_count": 25,
      "outputs": [
        {
          "output_type": "execute_result",
          "data": {
            "text/plain": [
              "673"
            ]
          },
          "metadata": {
            "tags": []
          },
          "execution_count": 25
        }
      ]
    },
    {
      "metadata": {
        "id": "o_FjIKnFvfkS",
        "colab_type": "code",
        "colab": {}
      },
      "cell_type": "code",
      "source": [
        ""
      ],
      "execution_count": 0,
      "outputs": []
    }
  ]
}